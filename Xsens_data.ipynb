{
 "cells": [
  {
   "cell_type": "code",
   "execution_count": 1,
   "id": "17c244d6-c121-482f-8727-afd13c169b47",
   "metadata": {},
   "outputs": [],
   "source": [
    "# Import useful Libraries\n",
    "import numpy as np\n",
    "import pandas as pd \n",
    "import matplotlib.pyplot as plt\n",
    "import plotly.express as px\n",
    "import seaborn as sns\n",
    "\n",
    "from sklearn.metrics import accuracy_score, confusion_matrix, roc_curve\n",
    "from sklearn.linear_model import LogisticRegression\n",
    "from sklearn.neighbors import KNeighborsClassifier\n",
    "from sklearn.svm import SVC\n",
    "from sklearn.tree import DecisionTreeClassifier\n",
    "from sklearn.ensemble import RandomForestClassifier, GradientBoostingClassifier, AdaBoostClassifier\n",
    "from sklearn.naive_bayes import GaussianNB, MultinomialNB\n",
    "from sklearn.preprocessing import StandardScaler, LabelEncoder\n",
    "from sklearn.model_selection import RepeatedStratifiedKFold, RandomizedSearchCV, GridSearchCV, train_test_split\n",
    "from scipy.stats import loguniform\n",
    "from xgboost import XGBClassifier\n",
    "from lightgbm import LGBMClassifier\n",
    "from catboost import CatBoostClassifier, Pool, cv\n",
    "\n",
    "import warnings\n",
    "warnings.filterwarnings('ignore')\n",
    "\n",
    "np.random.seed(42)"
   ]
  },
  {
   "cell_type": "code",
   "execution_count": 2,
   "id": "ac9e9009-290a-4863-b3d3-386515cc319b",
   "metadata": {},
   "outputs": [],
   "source": [
    "\n",
    "# Step 3.1: Upload Data\n",
    "\"C:\\D\\IMPAS\\Internship\\Project\\Time validation\\Measurement 28.4 - Optagait vs IMU\\IMU\\20230428_094925_Unnamed_Unnamed).tsv\" \n",
    "df = pd.read_csv(\"C:/D/IMPAS/Internship/Project/Time validation\\Measurement 28.4 - Optagait vs IMU/IMU/20230428_094925_Unnamed_Unnamed).tsv\" , sep='\\t')\n",
    "df1 = df.copy()"
   ]
  },
  {
   "cell_type": "code",
   "execution_count": 3,
   "id": "ae7522dd-6272-4cb2-a0d2-9868098991f7",
   "metadata": {},
   "outputs": [
    {
     "data": {
      "text/html": [
       "<div>\n",
       "<style scoped>\n",
       "    .dataframe tbody tr th:only-of-type {\n",
       "        vertical-align: middle;\n",
       "    }\n",
       "\n",
       "    .dataframe tbody tr th {\n",
       "        vertical-align: top;\n",
       "    }\n",
       "\n",
       "    .dataframe thead th {\n",
       "        text-align: right;\n",
       "    }\n",
       "</style>\n",
       "<table border=\"1\" class=\"dataframe\">\n",
       "  <thead>\n",
       "    <tr style=\"text-align: right;\">\n",
       "      <th></th>\n",
       "      <th>Unnamed: 0</th>\n",
       "      <th>Right</th>\n",
       "      <th>Unnamed: 2</th>\n",
       "      <th>Unnamed: 3</th>\n",
       "      <th>Unnamed: 4</th>\n",
       "      <th>Unnamed: 5</th>\n",
       "      <th>Unnamed: 6</th>\n",
       "      <th>Unnamed: 7</th>\n",
       "      <th>Left</th>\n",
       "      <th>Unnamed: 9</th>\n",
       "      <th>Unnamed: 10</th>\n",
       "      <th>Unnamed: 11</th>\n",
       "      <th>Unnamed: 12</th>\n",
       "      <th>Unnamed: 13</th>\n",
       "      <th>Unnamed: 14</th>\n",
       "      <th>Unnamed: 15</th>\n",
       "    </tr>\n",
       "  </thead>\n",
       "  <tbody>\n",
       "    <tr>\n",
       "      <th>0</th>\n",
       "      <td>Time</td>\n",
       "      <td>ax</td>\n",
       "      <td>ay</td>\n",
       "      <td>az</td>\n",
       "      <td>qx</td>\n",
       "      <td>qy</td>\n",
       "      <td>qz</td>\n",
       "      <td>qw</td>\n",
       "      <td>ax</td>\n",
       "      <td>ay</td>\n",
       "      <td>az</td>\n",
       "      <td>qx</td>\n",
       "      <td>qy</td>\n",
       "      <td>qz</td>\n",
       "      <td>qw</td>\n",
       "      <td>NaN</td>\n",
       "    </tr>\n",
       "    <tr>\n",
       "      <th>1</th>\n",
       "      <td>0,000</td>\n",
       "      <td>-0,058</td>\n",
       "      <td>-0,174</td>\n",
       "      <td>0,148</td>\n",
       "      <td>-0,458</td>\n",
       "      <td>-0,545</td>\n",
       "      <td>0,538</td>\n",
       "      <td>0,451</td>\n",
       "      <td>-1,480</td>\n",
       "      <td>1,481</td>\n",
       "      <td>-1,069</td>\n",
       "      <td>-0,000</td>\n",
       "      <td>0,018</td>\n",
       "      <td>-0,074</td>\n",
       "      <td>-0,997</td>\n",
       "      <td>NaN</td>\n",
       "    </tr>\n",
       "    <tr>\n",
       "      <th>2</th>\n",
       "      <td>0,016</td>\n",
       "      <td>-0,355</td>\n",
       "      <td>-0,345</td>\n",
       "      <td>0,244</td>\n",
       "      <td>-0,458</td>\n",
       "      <td>-0,545</td>\n",
       "      <td>0,538</td>\n",
       "      <td>0,451</td>\n",
       "      <td>-1,416</td>\n",
       "      <td>1,255</td>\n",
       "      <td>-0,903</td>\n",
       "      <td>-0,000</td>\n",
       "      <td>0,018</td>\n",
       "      <td>-0,074</td>\n",
       "      <td>-0,997</td>\n",
       "      <td>NaN</td>\n",
       "    </tr>\n",
       "    <tr>\n",
       "      <th>3</th>\n",
       "      <td>0,032</td>\n",
       "      <td>-0,041</td>\n",
       "      <td>-0,640</td>\n",
       "      <td>0,176</td>\n",
       "      <td>-0,458</td>\n",
       "      <td>-0,545</td>\n",
       "      <td>0,538</td>\n",
       "      <td>0,451</td>\n",
       "      <td>-1,120</td>\n",
       "      <td>0,836</td>\n",
       "      <td>-0,439</td>\n",
       "      <td>-0,000</td>\n",
       "      <td>0,018</td>\n",
       "      <td>-0,074</td>\n",
       "      <td>-0,997</td>\n",
       "      <td>NaN</td>\n",
       "    </tr>\n",
       "    <tr>\n",
       "      <th>4</th>\n",
       "      <td>0,048</td>\n",
       "      <td>-0,123</td>\n",
       "      <td>-0,586</td>\n",
       "      <td>0,103</td>\n",
       "      <td>-0,458</td>\n",
       "      <td>-0,545</td>\n",
       "      <td>0,538</td>\n",
       "      <td>0,451</td>\n",
       "      <td>-0,946</td>\n",
       "      <td>0,705</td>\n",
       "      <td>-0,171</td>\n",
       "      <td>-0,000</td>\n",
       "      <td>0,018</td>\n",
       "      <td>-0,074</td>\n",
       "      <td>-0,997</td>\n",
       "      <td>NaN</td>\n",
       "    </tr>\n",
       "  </tbody>\n",
       "</table>\n",
       "</div>"
      ],
      "text/plain": [
       "  Unnamed: 0   Right Unnamed: 2 Unnamed: 3 Unnamed: 4 Unnamed: 5 Unnamed: 6  \\\n",
       "0       Time      ax         ay         az         qx         qy         qz   \n",
       "1      0,000  -0,058     -0,174      0,148     -0,458     -0,545      0,538   \n",
       "2      0,016  -0,355     -0,345      0,244     -0,458     -0,545      0,538   \n",
       "3      0,032  -0,041     -0,640      0,176     -0,458     -0,545      0,538   \n",
       "4      0,048  -0,123     -0,586      0,103     -0,458     -0,545      0,538   \n",
       "\n",
       "  Unnamed: 7    Left Unnamed: 9 Unnamed: 10 Unnamed: 11 Unnamed: 12  \\\n",
       "0         qw      ax         ay          az          qx          qy   \n",
       "1      0,451  -1,480      1,481      -1,069      -0,000       0,018   \n",
       "2      0,451  -1,416      1,255      -0,903      -0,000       0,018   \n",
       "3      0,451  -1,120      0,836      -0,439      -0,000       0,018   \n",
       "4      0,451  -0,946      0,705      -0,171      -0,000       0,018   \n",
       "\n",
       "  Unnamed: 13 Unnamed: 14  Unnamed: 15  \n",
       "0          qz          qw          NaN  \n",
       "1      -0,074      -0,997          NaN  \n",
       "2      -0,074      -0,997          NaN  \n",
       "3      -0,074      -0,997          NaN  \n",
       "4      -0,074      -0,997          NaN  "
      ]
     },
     "execution_count": 3,
     "metadata": {},
     "output_type": "execute_result"
    }
   ],
   "source": [
    "df1.head()"
   ]
  },
  {
   "cell_type": "code",
   "execution_count": 4,
   "id": "9ffbd53a-1bf5-4504-bca4-fe38cf6f7b06",
   "metadata": {},
   "outputs": [
    {
     "data": {
      "text/plain": [
       "Index(['Unnamed: 0', 'Right', 'Unnamed: 2', 'Unnamed: 3', 'Unnamed: 4',\n",
       "       'Unnamed: 5', 'Unnamed: 6', 'Unnamed: 7', 'Left', 'Unnamed: 9',\n",
       "       'Unnamed: 10', 'Unnamed: 11', 'Unnamed: 12', 'Unnamed: 13',\n",
       "       'Unnamed: 14', 'Unnamed: 15'],\n",
       "      dtype='object')"
      ]
     },
     "execution_count": 4,
     "metadata": {},
     "output_type": "execute_result"
    }
   ],
   "source": [
    "df.columns"
   ]
  },
  {
   "cell_type": "code",
   "execution_count": 5,
   "id": "a08b1514-25a0-44e2-afe2-b7bb6687c218",
   "metadata": {},
   "outputs": [],
   "source": [
    "df = df.drop(index=0)\n"
   ]
  },
  {
   "cell_type": "code",
   "execution_count": 6,
   "id": "5c5ceac5-b12a-4f10-a37a-1f52092e943a",
   "metadata": {},
   "outputs": [
    {
     "data": {
      "text/html": [
       "<div>\n",
       "<style scoped>\n",
       "    .dataframe tbody tr th:only-of-type {\n",
       "        vertical-align: middle;\n",
       "    }\n",
       "\n",
       "    .dataframe tbody tr th {\n",
       "        vertical-align: top;\n",
       "    }\n",
       "\n",
       "    .dataframe thead th {\n",
       "        text-align: right;\n",
       "    }\n",
       "</style>\n",
       "<table border=\"1\" class=\"dataframe\">\n",
       "  <thead>\n",
       "    <tr style=\"text-align: right;\">\n",
       "      <th></th>\n",
       "      <th>Unnamed: 0</th>\n",
       "      <th>Right</th>\n",
       "      <th>Unnamed: 2</th>\n",
       "      <th>Unnamed: 3</th>\n",
       "      <th>Unnamed: 4</th>\n",
       "      <th>Unnamed: 5</th>\n",
       "      <th>Unnamed: 6</th>\n",
       "      <th>Unnamed: 7</th>\n",
       "      <th>Left</th>\n",
       "      <th>Unnamed: 9</th>\n",
       "      <th>Unnamed: 10</th>\n",
       "      <th>Unnamed: 11</th>\n",
       "      <th>Unnamed: 12</th>\n",
       "      <th>Unnamed: 13</th>\n",
       "      <th>Unnamed: 14</th>\n",
       "      <th>Unnamed: 15</th>\n",
       "    </tr>\n",
       "  </thead>\n",
       "  <tbody>\n",
       "    <tr>\n",
       "      <th>1</th>\n",
       "      <td>0,000</td>\n",
       "      <td>-0,058</td>\n",
       "      <td>-0,174</td>\n",
       "      <td>0,148</td>\n",
       "      <td>-0,458</td>\n",
       "      <td>-0,545</td>\n",
       "      <td>0,538</td>\n",
       "      <td>0,451</td>\n",
       "      <td>-1,480</td>\n",
       "      <td>1,481</td>\n",
       "      <td>-1,069</td>\n",
       "      <td>-0,000</td>\n",
       "      <td>0,018</td>\n",
       "      <td>-0,074</td>\n",
       "      <td>-0,997</td>\n",
       "      <td>NaN</td>\n",
       "    </tr>\n",
       "    <tr>\n",
       "      <th>2</th>\n",
       "      <td>0,016</td>\n",
       "      <td>-0,355</td>\n",
       "      <td>-0,345</td>\n",
       "      <td>0,244</td>\n",
       "      <td>-0,458</td>\n",
       "      <td>-0,545</td>\n",
       "      <td>0,538</td>\n",
       "      <td>0,451</td>\n",
       "      <td>-1,416</td>\n",
       "      <td>1,255</td>\n",
       "      <td>-0,903</td>\n",
       "      <td>-0,000</td>\n",
       "      <td>0,018</td>\n",
       "      <td>-0,074</td>\n",
       "      <td>-0,997</td>\n",
       "      <td>NaN</td>\n",
       "    </tr>\n",
       "    <tr>\n",
       "      <th>3</th>\n",
       "      <td>0,032</td>\n",
       "      <td>-0,041</td>\n",
       "      <td>-0,640</td>\n",
       "      <td>0,176</td>\n",
       "      <td>-0,458</td>\n",
       "      <td>-0,545</td>\n",
       "      <td>0,538</td>\n",
       "      <td>0,451</td>\n",
       "      <td>-1,120</td>\n",
       "      <td>0,836</td>\n",
       "      <td>-0,439</td>\n",
       "      <td>-0,000</td>\n",
       "      <td>0,018</td>\n",
       "      <td>-0,074</td>\n",
       "      <td>-0,997</td>\n",
       "      <td>NaN</td>\n",
       "    </tr>\n",
       "    <tr>\n",
       "      <th>4</th>\n",
       "      <td>0,048</td>\n",
       "      <td>-0,123</td>\n",
       "      <td>-0,586</td>\n",
       "      <td>0,103</td>\n",
       "      <td>-0,458</td>\n",
       "      <td>-0,545</td>\n",
       "      <td>0,538</td>\n",
       "      <td>0,451</td>\n",
       "      <td>-0,946</td>\n",
       "      <td>0,705</td>\n",
       "      <td>-0,171</td>\n",
       "      <td>-0,000</td>\n",
       "      <td>0,018</td>\n",
       "      <td>-0,074</td>\n",
       "      <td>-0,997</td>\n",
       "      <td>NaN</td>\n",
       "    </tr>\n",
       "    <tr>\n",
       "      <th>5</th>\n",
       "      <td>0,064</td>\n",
       "      <td>-0,186</td>\n",
       "      <td>-0,342</td>\n",
       "      <td>-0,028</td>\n",
       "      <td>-0,458</td>\n",
       "      <td>-0,545</td>\n",
       "      <td>0,538</td>\n",
       "      <td>0,451</td>\n",
       "      <td>-0,832</td>\n",
       "      <td>0,524</td>\n",
       "      <td>0,018</td>\n",
       "      <td>-0,000</td>\n",
       "      <td>0,018</td>\n",
       "      <td>-0,074</td>\n",
       "      <td>-0,997</td>\n",
       "      <td>NaN</td>\n",
       "    </tr>\n",
       "  </tbody>\n",
       "</table>\n",
       "</div>"
      ],
      "text/plain": [
       "  Unnamed: 0   Right Unnamed: 2 Unnamed: 3 Unnamed: 4 Unnamed: 5 Unnamed: 6  \\\n",
       "1      0,000  -0,058     -0,174      0,148     -0,458     -0,545      0,538   \n",
       "2      0,016  -0,355     -0,345      0,244     -0,458     -0,545      0,538   \n",
       "3      0,032  -0,041     -0,640      0,176     -0,458     -0,545      0,538   \n",
       "4      0,048  -0,123     -0,586      0,103     -0,458     -0,545      0,538   \n",
       "5      0,064  -0,186     -0,342     -0,028     -0,458     -0,545      0,538   \n",
       "\n",
       "  Unnamed: 7    Left Unnamed: 9 Unnamed: 10 Unnamed: 11 Unnamed: 12  \\\n",
       "1      0,451  -1,480      1,481      -1,069      -0,000       0,018   \n",
       "2      0,451  -1,416      1,255      -0,903      -0,000       0,018   \n",
       "3      0,451  -1,120      0,836      -0,439      -0,000       0,018   \n",
       "4      0,451  -0,946      0,705      -0,171      -0,000       0,018   \n",
       "5      0,451  -0,832      0,524       0,018      -0,000       0,018   \n",
       "\n",
       "  Unnamed: 13 Unnamed: 14  Unnamed: 15  \n",
       "1      -0,074      -0,997          NaN  \n",
       "2      -0,074      -0,997          NaN  \n",
       "3      -0,074      -0,997          NaN  \n",
       "4      -0,074      -0,997          NaN  \n",
       "5      -0,074      -0,997          NaN  "
      ]
     },
     "execution_count": 6,
     "metadata": {},
     "output_type": "execute_result"
    }
   ],
   "source": [
    "df.head()"
   ]
  },
  {
   "cell_type": "code",
   "execution_count": 7,
   "id": "8cd16d21-b39e-4cb8-8936-ec3854eb654d",
   "metadata": {},
   "outputs": [],
   "source": [
    "new_column_names = ['Time', 'Ax_R','Ay_R','Az_R','Gx_R','Gy_R','Gz_R','Ax_L','Ay_L','Az_L','Gx_L','Gy_L','Gz_L']"
   ]
  },
  {
   "cell_type": "code",
   "execution_count": 8,
   "id": "b48cc3ad-8c18-4dfa-92c8-945a4e67ebce",
   "metadata": {},
   "outputs": [],
   "source": [
    "df = df.drop(columns = ['Unnamed: 7','Unnamed: 14', 'Unnamed: 15'])"
   ]
  },
  {
   "cell_type": "code",
   "execution_count": 9,
   "id": "53f52dd8-b531-420b-87d4-61a4105a2784",
   "metadata": {},
   "outputs": [],
   "source": [
    "df.columns = new_column_names"
   ]
  },
  {
   "cell_type": "code",
   "execution_count": 10,
   "id": "5195c5d0-e560-40ce-8189-873f583ea48a",
   "metadata": {},
   "outputs": [
    {
     "data": {
      "text/html": [
       "<div>\n",
       "<style scoped>\n",
       "    .dataframe tbody tr th:only-of-type {\n",
       "        vertical-align: middle;\n",
       "    }\n",
       "\n",
       "    .dataframe tbody tr th {\n",
       "        vertical-align: top;\n",
       "    }\n",
       "\n",
       "    .dataframe thead th {\n",
       "        text-align: right;\n",
       "    }\n",
       "</style>\n",
       "<table border=\"1\" class=\"dataframe\">\n",
       "  <thead>\n",
       "    <tr style=\"text-align: right;\">\n",
       "      <th></th>\n",
       "      <th>Time</th>\n",
       "      <th>Ax_R</th>\n",
       "      <th>Ay_R</th>\n",
       "      <th>Az_R</th>\n",
       "      <th>Gx_R</th>\n",
       "      <th>Gy_R</th>\n",
       "      <th>Gz_R</th>\n",
       "      <th>Ax_L</th>\n",
       "      <th>Ay_L</th>\n",
       "      <th>Az_L</th>\n",
       "      <th>Gx_L</th>\n",
       "      <th>Gy_L</th>\n",
       "      <th>Gz_L</th>\n",
       "    </tr>\n",
       "  </thead>\n",
       "  <tbody>\n",
       "    <tr>\n",
       "      <th>1</th>\n",
       "      <td>0,000</td>\n",
       "      <td>-0,058</td>\n",
       "      <td>-0,174</td>\n",
       "      <td>0,148</td>\n",
       "      <td>-0,458</td>\n",
       "      <td>-0,545</td>\n",
       "      <td>0,538</td>\n",
       "      <td>-1,480</td>\n",
       "      <td>1,481</td>\n",
       "      <td>-1,069</td>\n",
       "      <td>-0,000</td>\n",
       "      <td>0,018</td>\n",
       "      <td>-0,074</td>\n",
       "    </tr>\n",
       "    <tr>\n",
       "      <th>2</th>\n",
       "      <td>0,016</td>\n",
       "      <td>-0,355</td>\n",
       "      <td>-0,345</td>\n",
       "      <td>0,244</td>\n",
       "      <td>-0,458</td>\n",
       "      <td>-0,545</td>\n",
       "      <td>0,538</td>\n",
       "      <td>-1,416</td>\n",
       "      <td>1,255</td>\n",
       "      <td>-0,903</td>\n",
       "      <td>-0,000</td>\n",
       "      <td>0,018</td>\n",
       "      <td>-0,074</td>\n",
       "    </tr>\n",
       "    <tr>\n",
       "      <th>3</th>\n",
       "      <td>0,032</td>\n",
       "      <td>-0,041</td>\n",
       "      <td>-0,640</td>\n",
       "      <td>0,176</td>\n",
       "      <td>-0,458</td>\n",
       "      <td>-0,545</td>\n",
       "      <td>0,538</td>\n",
       "      <td>-1,120</td>\n",
       "      <td>0,836</td>\n",
       "      <td>-0,439</td>\n",
       "      <td>-0,000</td>\n",
       "      <td>0,018</td>\n",
       "      <td>-0,074</td>\n",
       "    </tr>\n",
       "    <tr>\n",
       "      <th>4</th>\n",
       "      <td>0,048</td>\n",
       "      <td>-0,123</td>\n",
       "      <td>-0,586</td>\n",
       "      <td>0,103</td>\n",
       "      <td>-0,458</td>\n",
       "      <td>-0,545</td>\n",
       "      <td>0,538</td>\n",
       "      <td>-0,946</td>\n",
       "      <td>0,705</td>\n",
       "      <td>-0,171</td>\n",
       "      <td>-0,000</td>\n",
       "      <td>0,018</td>\n",
       "      <td>-0,074</td>\n",
       "    </tr>\n",
       "    <tr>\n",
       "      <th>5</th>\n",
       "      <td>0,064</td>\n",
       "      <td>-0,186</td>\n",
       "      <td>-0,342</td>\n",
       "      <td>-0,028</td>\n",
       "      <td>-0,458</td>\n",
       "      <td>-0,545</td>\n",
       "      <td>0,538</td>\n",
       "      <td>-0,832</td>\n",
       "      <td>0,524</td>\n",
       "      <td>0,018</td>\n",
       "      <td>-0,000</td>\n",
       "      <td>0,018</td>\n",
       "      <td>-0,074</td>\n",
       "    </tr>\n",
       "    <tr>\n",
       "      <th>...</th>\n",
       "      <td>...</td>\n",
       "      <td>...</td>\n",
       "      <td>...</td>\n",
       "      <td>...</td>\n",
       "      <td>...</td>\n",
       "      <td>...</td>\n",
       "      <td>...</td>\n",
       "      <td>...</td>\n",
       "      <td>...</td>\n",
       "      <td>...</td>\n",
       "      <td>...</td>\n",
       "      <td>...</td>\n",
       "      <td>...</td>\n",
       "    </tr>\n",
       "    <tr>\n",
       "      <th>255</th>\n",
       "      <td>4,064</td>\n",
       "      <td>0,006</td>\n",
       "      <td>0,051</td>\n",
       "      <td>-0,004</td>\n",
       "      <td>-0,458</td>\n",
       "      <td>-0,545</td>\n",
       "      <td>0,538</td>\n",
       "      <td>0,086</td>\n",
       "      <td>-0,096</td>\n",
       "      <td>0,063</td>\n",
       "      <td>-0,000</td>\n",
       "      <td>0,018</td>\n",
       "      <td>-0,074</td>\n",
       "    </tr>\n",
       "    <tr>\n",
       "      <th>256</th>\n",
       "      <td>4,080</td>\n",
       "      <td>0,003</td>\n",
       "      <td>0,054</td>\n",
       "      <td>-0,004</td>\n",
       "      <td>-0,458</td>\n",
       "      <td>-0,545</td>\n",
       "      <td>0,538</td>\n",
       "      <td>0,069</td>\n",
       "      <td>-0,012</td>\n",
       "      <td>0,021</td>\n",
       "      <td>-0,000</td>\n",
       "      <td>0,018</td>\n",
       "      <td>-0,074</td>\n",
       "    </tr>\n",
       "    <tr>\n",
       "      <th>257</th>\n",
       "      <td>4,096</td>\n",
       "      <td>-0,002</td>\n",
       "      <td>0,039</td>\n",
       "      <td>-0,002</td>\n",
       "      <td>-0,458</td>\n",
       "      <td>-0,545</td>\n",
       "      <td>0,538</td>\n",
       "      <td>0,091</td>\n",
       "      <td>-0,034</td>\n",
       "      <td>-0,081</td>\n",
       "      <td>-0,000</td>\n",
       "      <td>0,018</td>\n",
       "      <td>-0,074</td>\n",
       "    </tr>\n",
       "    <tr>\n",
       "      <th>258</th>\n",
       "      <td>4,112</td>\n",
       "      <td>-0,001</td>\n",
       "      <td>0,042</td>\n",
       "      <td>-0,004</td>\n",
       "      <td>-0,458</td>\n",
       "      <td>-0,545</td>\n",
       "      <td>0,538</td>\n",
       "      <td>0,109</td>\n",
       "      <td>0,027</td>\n",
       "      <td>-0,013</td>\n",
       "      <td>-0,000</td>\n",
       "      <td>0,018</td>\n",
       "      <td>-0,074</td>\n",
       "    </tr>\n",
       "    <tr>\n",
       "      <th>259</th>\n",
       "      <td>4,128</td>\n",
       "      <td>-0,001</td>\n",
       "      <td>0,042</td>\n",
       "      <td>-0,004</td>\n",
       "      <td>-0,458</td>\n",
       "      <td>-0,545</td>\n",
       "      <td>0,538</td>\n",
       "      <td>0,124</td>\n",
       "      <td>-0,047</td>\n",
       "      <td>-0,012</td>\n",
       "      <td>-0,000</td>\n",
       "      <td>0,018</td>\n",
       "      <td>-0,074</td>\n",
       "    </tr>\n",
       "  </tbody>\n",
       "</table>\n",
       "<p>259 rows × 13 columns</p>\n",
       "</div>"
      ],
      "text/plain": [
       "      Time    Ax_R    Ay_R    Az_R    Gx_R    Gy_R   Gz_R    Ax_L    Ay_L  \\\n",
       "1    0,000  -0,058  -0,174   0,148  -0,458  -0,545  0,538  -1,480   1,481   \n",
       "2    0,016  -0,355  -0,345   0,244  -0,458  -0,545  0,538  -1,416   1,255   \n",
       "3    0,032  -0,041  -0,640   0,176  -0,458  -0,545  0,538  -1,120   0,836   \n",
       "4    0,048  -0,123  -0,586   0,103  -0,458  -0,545  0,538  -0,946   0,705   \n",
       "5    0,064  -0,186  -0,342  -0,028  -0,458  -0,545  0,538  -0,832   0,524   \n",
       "..     ...     ...     ...     ...     ...     ...    ...     ...     ...   \n",
       "255  4,064   0,006   0,051  -0,004  -0,458  -0,545  0,538   0,086  -0,096   \n",
       "256  4,080   0,003   0,054  -0,004  -0,458  -0,545  0,538   0,069  -0,012   \n",
       "257  4,096  -0,002   0,039  -0,002  -0,458  -0,545  0,538   0,091  -0,034   \n",
       "258  4,112  -0,001   0,042  -0,004  -0,458  -0,545  0,538   0,109   0,027   \n",
       "259  4,128  -0,001   0,042  -0,004  -0,458  -0,545  0,538   0,124  -0,047   \n",
       "\n",
       "       Az_L    Gx_L   Gy_L    Gz_L  \n",
       "1    -1,069  -0,000  0,018  -0,074  \n",
       "2    -0,903  -0,000  0,018  -0,074  \n",
       "3    -0,439  -0,000  0,018  -0,074  \n",
       "4    -0,171  -0,000  0,018  -0,074  \n",
       "5     0,018  -0,000  0,018  -0,074  \n",
       "..      ...     ...    ...     ...  \n",
       "255   0,063  -0,000  0,018  -0,074  \n",
       "256   0,021  -0,000  0,018  -0,074  \n",
       "257  -0,081  -0,000  0,018  -0,074  \n",
       "258  -0,013  -0,000  0,018  -0,074  \n",
       "259  -0,012  -0,000  0,018  -0,074  \n",
       "\n",
       "[259 rows x 13 columns]"
      ]
     },
     "execution_count": 10,
     "metadata": {},
     "output_type": "execute_result"
    }
   ],
   "source": [
    "df"
   ]
  },
  {
   "cell_type": "code",
   "execution_count": 11,
   "id": "963b3628-8f6d-4b45-8352-cc5fe7d40232",
   "metadata": {},
   "outputs": [],
   "source": [
    "#df['Unnamed: 0'] = df['Unnamed: 0'].str.replace(',', '').astype(float)\n",
    "#df['Unnamed: 0'] = df['Unnamed: 0'].astype(float)\n",
    "def remove_commas_and_convert(column):\n",
    "    return column.str.replace(',', '',regex = False).astype(float)\n",
    "\n",
    "\n",
    "df = df.apply(remove_commas_and_convert,axis =0)\n",
    "    "
   ]
  },
  {
   "cell_type": "code",
   "execution_count": 16,
   "id": "a5cdd798-6e01-4b31-bdb3-b3c7248032bc",
   "metadata": {},
   "outputs": [
    {
     "data": {
      "text/html": [
       "<div>\n",
       "<style scoped>\n",
       "    .dataframe tbody tr th:only-of-type {\n",
       "        vertical-align: middle;\n",
       "    }\n",
       "\n",
       "    .dataframe tbody tr th {\n",
       "        vertical-align: top;\n",
       "    }\n",
       "\n",
       "    .dataframe thead th {\n",
       "        text-align: right;\n",
       "    }\n",
       "</style>\n",
       "<table border=\"1\" class=\"dataframe\">\n",
       "  <thead>\n",
       "    <tr style=\"text-align: right;\">\n",
       "      <th></th>\n",
       "      <th>Time</th>\n",
       "      <th>Ax_R</th>\n",
       "      <th>Ay_R</th>\n",
       "      <th>Az_R</th>\n",
       "      <th>Gx_R</th>\n",
       "      <th>Gy_R</th>\n",
       "      <th>Gz_R</th>\n",
       "      <th>Ax_L</th>\n",
       "      <th>Ay_L</th>\n",
       "      <th>Az_L</th>\n",
       "      <th>Gx_L</th>\n",
       "      <th>Gy_L</th>\n",
       "      <th>Gz_L</th>\n",
       "    </tr>\n",
       "  </thead>\n",
       "  <tbody>\n",
       "    <tr>\n",
       "      <th>1</th>\n",
       "      <td>0.0</td>\n",
       "      <td>-58.0</td>\n",
       "      <td>-174.0</td>\n",
       "      <td>148.0</td>\n",
       "      <td>-458.0</td>\n",
       "      <td>-545.0</td>\n",
       "      <td>538.0</td>\n",
       "      <td>-1480.0</td>\n",
       "      <td>1481.0</td>\n",
       "      <td>-1069.0</td>\n",
       "      <td>-0.0</td>\n",
       "      <td>18.0</td>\n",
       "      <td>-74.0</td>\n",
       "    </tr>\n",
       "    <tr>\n",
       "      <th>2</th>\n",
       "      <td>16.0</td>\n",
       "      <td>-355.0</td>\n",
       "      <td>-345.0</td>\n",
       "      <td>244.0</td>\n",
       "      <td>-458.0</td>\n",
       "      <td>-545.0</td>\n",
       "      <td>538.0</td>\n",
       "      <td>-1416.0</td>\n",
       "      <td>1255.0</td>\n",
       "      <td>-903.0</td>\n",
       "      <td>-0.0</td>\n",
       "      <td>18.0</td>\n",
       "      <td>-74.0</td>\n",
       "    </tr>\n",
       "    <tr>\n",
       "      <th>3</th>\n",
       "      <td>32.0</td>\n",
       "      <td>-41.0</td>\n",
       "      <td>-640.0</td>\n",
       "      <td>176.0</td>\n",
       "      <td>-458.0</td>\n",
       "      <td>-545.0</td>\n",
       "      <td>538.0</td>\n",
       "      <td>-1120.0</td>\n",
       "      <td>836.0</td>\n",
       "      <td>-439.0</td>\n",
       "      <td>-0.0</td>\n",
       "      <td>18.0</td>\n",
       "      <td>-74.0</td>\n",
       "    </tr>\n",
       "    <tr>\n",
       "      <th>4</th>\n",
       "      <td>48.0</td>\n",
       "      <td>-123.0</td>\n",
       "      <td>-586.0</td>\n",
       "      <td>103.0</td>\n",
       "      <td>-458.0</td>\n",
       "      <td>-545.0</td>\n",
       "      <td>538.0</td>\n",
       "      <td>-946.0</td>\n",
       "      <td>705.0</td>\n",
       "      <td>-171.0</td>\n",
       "      <td>-0.0</td>\n",
       "      <td>18.0</td>\n",
       "      <td>-74.0</td>\n",
       "    </tr>\n",
       "    <tr>\n",
       "      <th>5</th>\n",
       "      <td>64.0</td>\n",
       "      <td>-186.0</td>\n",
       "      <td>-342.0</td>\n",
       "      <td>-28.0</td>\n",
       "      <td>-458.0</td>\n",
       "      <td>-545.0</td>\n",
       "      <td>538.0</td>\n",
       "      <td>-832.0</td>\n",
       "      <td>524.0</td>\n",
       "      <td>18.0</td>\n",
       "      <td>-0.0</td>\n",
       "      <td>18.0</td>\n",
       "      <td>-74.0</td>\n",
       "    </tr>\n",
       "    <tr>\n",
       "      <th>...</th>\n",
       "      <td>...</td>\n",
       "      <td>...</td>\n",
       "      <td>...</td>\n",
       "      <td>...</td>\n",
       "      <td>...</td>\n",
       "      <td>...</td>\n",
       "      <td>...</td>\n",
       "      <td>...</td>\n",
       "      <td>...</td>\n",
       "      <td>...</td>\n",
       "      <td>...</td>\n",
       "      <td>...</td>\n",
       "      <td>...</td>\n",
       "    </tr>\n",
       "    <tr>\n",
       "      <th>255</th>\n",
       "      <td>4064.0</td>\n",
       "      <td>6.0</td>\n",
       "      <td>51.0</td>\n",
       "      <td>-4.0</td>\n",
       "      <td>-458.0</td>\n",
       "      <td>-545.0</td>\n",
       "      <td>538.0</td>\n",
       "      <td>86.0</td>\n",
       "      <td>-96.0</td>\n",
       "      <td>63.0</td>\n",
       "      <td>-0.0</td>\n",
       "      <td>18.0</td>\n",
       "      <td>-74.0</td>\n",
       "    </tr>\n",
       "    <tr>\n",
       "      <th>256</th>\n",
       "      <td>4080.0</td>\n",
       "      <td>3.0</td>\n",
       "      <td>54.0</td>\n",
       "      <td>-4.0</td>\n",
       "      <td>-458.0</td>\n",
       "      <td>-545.0</td>\n",
       "      <td>538.0</td>\n",
       "      <td>69.0</td>\n",
       "      <td>-12.0</td>\n",
       "      <td>21.0</td>\n",
       "      <td>-0.0</td>\n",
       "      <td>18.0</td>\n",
       "      <td>-74.0</td>\n",
       "    </tr>\n",
       "    <tr>\n",
       "      <th>257</th>\n",
       "      <td>4096.0</td>\n",
       "      <td>-2.0</td>\n",
       "      <td>39.0</td>\n",
       "      <td>-2.0</td>\n",
       "      <td>-458.0</td>\n",
       "      <td>-545.0</td>\n",
       "      <td>538.0</td>\n",
       "      <td>91.0</td>\n",
       "      <td>-34.0</td>\n",
       "      <td>-81.0</td>\n",
       "      <td>-0.0</td>\n",
       "      <td>18.0</td>\n",
       "      <td>-74.0</td>\n",
       "    </tr>\n",
       "    <tr>\n",
       "      <th>258</th>\n",
       "      <td>4112.0</td>\n",
       "      <td>-1.0</td>\n",
       "      <td>42.0</td>\n",
       "      <td>-4.0</td>\n",
       "      <td>-458.0</td>\n",
       "      <td>-545.0</td>\n",
       "      <td>538.0</td>\n",
       "      <td>109.0</td>\n",
       "      <td>27.0</td>\n",
       "      <td>-13.0</td>\n",
       "      <td>-0.0</td>\n",
       "      <td>18.0</td>\n",
       "      <td>-74.0</td>\n",
       "    </tr>\n",
       "    <tr>\n",
       "      <th>259</th>\n",
       "      <td>4128.0</td>\n",
       "      <td>-1.0</td>\n",
       "      <td>42.0</td>\n",
       "      <td>-4.0</td>\n",
       "      <td>-458.0</td>\n",
       "      <td>-545.0</td>\n",
       "      <td>538.0</td>\n",
       "      <td>124.0</td>\n",
       "      <td>-47.0</td>\n",
       "      <td>-12.0</td>\n",
       "      <td>-0.0</td>\n",
       "      <td>18.0</td>\n",
       "      <td>-74.0</td>\n",
       "    </tr>\n",
       "  </tbody>\n",
       "</table>\n",
       "<p>259 rows × 13 columns</p>\n",
       "</div>"
      ],
      "text/plain": [
       "       Time   Ax_R   Ay_R   Az_R   Gx_R   Gy_R   Gz_R    Ax_L    Ay_L    Az_L  \\\n",
       "1       0.0  -58.0 -174.0  148.0 -458.0 -545.0  538.0 -1480.0  1481.0 -1069.0   \n",
       "2      16.0 -355.0 -345.0  244.0 -458.0 -545.0  538.0 -1416.0  1255.0  -903.0   \n",
       "3      32.0  -41.0 -640.0  176.0 -458.0 -545.0  538.0 -1120.0   836.0  -439.0   \n",
       "4      48.0 -123.0 -586.0  103.0 -458.0 -545.0  538.0  -946.0   705.0  -171.0   \n",
       "5      64.0 -186.0 -342.0  -28.0 -458.0 -545.0  538.0  -832.0   524.0    18.0   \n",
       "..      ...    ...    ...    ...    ...    ...    ...     ...     ...     ...   \n",
       "255  4064.0    6.0   51.0   -4.0 -458.0 -545.0  538.0    86.0   -96.0    63.0   \n",
       "256  4080.0    3.0   54.0   -4.0 -458.0 -545.0  538.0    69.0   -12.0    21.0   \n",
       "257  4096.0   -2.0   39.0   -2.0 -458.0 -545.0  538.0    91.0   -34.0   -81.0   \n",
       "258  4112.0   -1.0   42.0   -4.0 -458.0 -545.0  538.0   109.0    27.0   -13.0   \n",
       "259  4128.0   -1.0   42.0   -4.0 -458.0 -545.0  538.0   124.0   -47.0   -12.0   \n",
       "\n",
       "     Gx_L  Gy_L  Gz_L  \n",
       "1    -0.0  18.0 -74.0  \n",
       "2    -0.0  18.0 -74.0  \n",
       "3    -0.0  18.0 -74.0  \n",
       "4    -0.0  18.0 -74.0  \n",
       "5    -0.0  18.0 -74.0  \n",
       "..    ...   ...   ...  \n",
       "255  -0.0  18.0 -74.0  \n",
       "256  -0.0  18.0 -74.0  \n",
       "257  -0.0  18.0 -74.0  \n",
       "258  -0.0  18.0 -74.0  \n",
       "259  -0.0  18.0 -74.0  \n",
       "\n",
       "[259 rows x 13 columns]"
      ]
     },
     "execution_count": 16,
     "metadata": {},
     "output_type": "execute_result"
    }
   ],
   "source": [
    "df"
   ]
  },
  {
   "cell_type": "code",
   "execution_count": 17,
   "id": "6060ccca-a182-49e3-b4f5-b564092e2236",
   "metadata": {},
   "outputs": [
    {
     "data": {
      "image/png": "[encoded data removed]",
      "text/plain": [
       "<Figure size 1000x600 with 1 Axes>"
      ]
     },
     "metadata": {},
     "output_type": "display_data"
    }
   ],
   "source": [
    "# Step 3.3: Plotting the Data\n",
    "plt.figure(figsize=(10, 6))\n",
    "plt.plot(df['Time'], df['Ax_R'], label='Acceleration_R')\n",
    "plt.plot(df['Time'], df['Ax_L'], label='Acceleration_L')\n",
    "plt.title('Acceleration vs. Time')\n",
    "plt.xlabel('Time (s)')\n",
    "plt.ylabel('Acceleration (m/s^2)')\n",
    "plt.legend()\n",
    "plt.grid(True)\n",
    "plt.show()\n"
   ]
  },
  {
   "cell_type": "code",
   "execution_count": 21,
   "id": "406f19f9-d14d-45a7-a5f1-d5ea40192cb5",
   "metadata": {},
   "outputs": [
    {
     "data": {
      "application/vnd.plotly.v1+json": {
       "config": {
        "plotlyServerURL": "https://plot.ly"
       },
       "data": [
        {
         "mode": "lines",
         "name": "Linear_Acceleration_R",
         "type": "scatter",
         "x": [
          0,
          16,
          32,
          48,
          64,
          80,
          96,
          112,
          128,
          144,
          160,
          176,
          192,
          208,
          224,
          240,
          256,
          272,
          288,
          304,
          320,
          336,
          352,
          368,
          384,
          400,
          416,
          432,
          448,
          464,
          480,
          496,
          512,
          528,
          544,
          560,
          576,
          592,
          608,
          624,
          640,
          656,
          672,
          688,
          704,
          720,
          736,
          752,
          768,
          784,
          800,
          816,
          832,
          848,
          864,
          880,
          896,
          912,
          928,
          944,
          960,
          976,
          992,
          1008,
          1024,
          1040,
          1056,
          1072,
          1088,
          1104,
          1120,
          1136,
          1152,
          1168,
          1184,
          1200,
          1216,
          1232,
          1248,
          1264,
          1280,
          1296,
          1312,
          1328,
          1344,
          1360,
          1376,
          1392,
          1408,
          1424,
          1440,
          1456,
          1472,
          1488,
          1504,
          1520,
          1536,
          1552,
          1568,
          1584,
          1600,
          1616,
          1632,
          1648,
          1664,
          1680,
          1696,
          1712,
          1728,
          1744,
          1760,
          1776,
          1792,
          1808,
          1824,
          1840,
          1856,
          1872,
          1888,
          1904,
          1920,
          1936,
          1952,
          1968,
          1984,
          2000,
          2016,
          2032,
          2048,
          2064,
          2080,
          2096,
          2112,
          2128,
          2144,
          2160,
          2176,
          2192,
          2208,
          2224,
          2240,
          2256,
          2272,
          2288,
          2304,
          2320,
          2336,
          2352,
          2368,
          2384,
          2400,
          2416,
          2432,
          2448,
          2464,
          2480,
          2496,
          2512,
          2528,
          2544,
          2560,
          2576,
          2592,
          2608,
          2624,
          2640,
          2656,
          2672,
          2688,
          2704,
          2720,
          2736,
          2752,
          2768,
          2784,
          2800,
          2816,
          2832,
          2848,
          2864,
          2880,
          2896,
          2912,
          2928,
          2944,
          2960,
          2976,
          2992,
          3008,
          3024,
          3040,
          3056,
          3072,
          3088,
          3104,
          3120,
          3136,
          3152,
          3168,
          3184,
          3200,
          3216,
          3232,
          3248,
          3264,
          3280,
          3296,
          3312,
          3328,
          3344,
          3360,
          3376,
          3392,
          3408,
          3424,
          3440,
          3456,
          3472,
          3488,
          3504,
          3520,
          3536,
          3552,
          3568,
          3584,
          3600,
          3616,
          3632,
          3648,
          3664,
          3680,
          3696,
          3712,
          3728,
          3744,
          3760,
          3776,
          3792,
          3808,
          3824,
          3840,
          3856,
          3872,
          3888,
          3904,
          3920,
          3936,
          3952,
          3968,
          3984,
          4000,
          4016,
          4032,
          4048,
          4064,
          4080,
          4096,
          4112,
          4128
         ],
         "y": [
          -58,
          -355,
          -41,
          -123,
          -186,
          -103,
          207,
          91,
          192,
          111,
          -177,
          -254,
          -248,
          -216,
          -203,
          -670,
          -331,
          -177,
          -237,
          28,
          6,
          -150,
          -236,
          -240,
          -363,
          -223,
          186,
          493,
          507,
          622,
          816,
          784,
          647,
          1856,
          -796,
          1078,
          -1140,
          -942,
          503,
          33,
          -5,
          54,
          -49,
          -311,
          -134,
          -338,
          -186,
          -147,
          362,
          435,
          -207,
          263,
          -136,
          -446,
          -116,
          -618,
          -712,
          -616,
          -336,
          -2,
          -160,
          -172,
          111,
          131,
          97,
          146,
          59,
          -201,
          14,
          368,
          438,
          256,
          523,
          938,
          846,
          795,
          662,
          542,
          1989,
          -1631,
          -1726,
          155,
          414,
          -130,
          178,
          86,
          218,
          -42,
          -35,
          -704,
          -322,
          -308,
          -309,
          329,
          -37,
          235,
          -453,
          179,
          245,
          -1788,
          -1379,
          -1549,
          -820,
          -297,
          -25,
          212,
          351,
          643,
          437,
          364,
          549,
          424,
          175,
          1174,
          1864,
          2400,
          1595,
          1334,
          1424,
          -482,
          1670,
          -3141,
          494,
          -779,
          386,
          -16,
          225,
          -178,
          -17,
          -232,
          -70,
          -529,
          -248,
          251,
          172,
          210,
          -428,
          -97,
          269,
          -2751,
          299,
          903,
          733,
          -92,
          -884,
          -1669,
          -2186,
          -1636,
          -547,
          366,
          420,
          815,
          2106,
          1836,
          1113,
          320,
          -356,
          7070,
          -10941,
          5279,
          -2140,
          -82,
          428,
          258,
          -96,
          3,
          -82,
          -215,
          -564,
          -590,
          -665,
          -513,
          195,
          477,
          336,
          -104,
          -103,
          -523,
          -873,
          -911,
          2420,
          3872,
          -2139,
          -5157,
          -1485,
          964,
          1360,
          680,
          -1320,
          -232,
          -635,
          -1044,
          286,
          734,
          856,
          1064,
          966,
          581,
          128,
          67,
          53,
          59,
          212,
          417,
          584,
          364,
          -429,
          -249,
          510,
          308,
          -317,
          -796,
          -432,
          -99,
          -171,
          4164,
          -2181,
          -32,
          -2313,
          -89,
          721,
          85,
          -213,
          -9,
          97,
          -127,
          116,
          25,
          24,
          -10,
          -55,
          -22,
          52,
          58,
          59,
          26,
          -1,
          -29,
          4,
          52,
          0,
          -10,
          -12,
          8,
          4,
          12,
          3,
          -1,
          -20,
          -10,
          14,
          15,
          0,
          0,
          6,
          3,
          -2,
          -1,
          -1
         ]
        },
        {
         "mode": "lines",
         "name": "Linear_Acceleration_L",
         "type": "scatter",
         "x": [
          0,
          16,
          32,
          48,
          64,
          80,
          96,
          112,
          128,
          144,
          160,
          176,
          192,
          208,
          224,
          240,
          256,
          272,
          288,
          304,
          320,
          336,
          352,
          368,
          384,
          400,
          416,
          432,
          448,
          464,
          480,
          496,
          512,
          528,
          544,
          560,
          576,
          592,
          608,
          624,
          640,
          656,
          672,
          688,
          704,
          720,
          736,
          752,
          768,
          784,
          800,
          816,
          832,
          848,
          864,
          880,
          896,
          912,
          928,
          944,
          960,
          976,
          992,
          1008,
          1024,
          1040,
          1056,
          1072,
          1088,
          1104,
          1120,
          1136,
          1152,
          1168,
          1184,
          1200,
          1216,
          1232,
          1248,
          1264,
          1280,
          1296,
          1312,
          1328,
          1344,
          1360,
          1376,
          1392,
          1408,
          1424,
          1440,
          1456,
          1472,
          1488,
          1504,
          1520,
          1536,
          1552,
          1568,
          1584,
          1600,
          1616,
          1632,
          1648,
          1664,
          1680,
          1696,
          1712,
          1728,
          1744,
          1760,
          1776,
          1792,
          1808,
          1824,
          1840,
          1856,
          1872,
          1888,
          1904,
          1920,
          1936,
          1952,
          1968,
          1984,
          2000,
          2016,
          2032,
          2048,
          2064,
          2080,
          2096,
          2112,
          2128,
          2144,
          2160,
          2176,
          2192,
          2208,
          2224,
          2240,
          2256,
          2272,
          2288,
          2304,
          2320,
          2336,
          2352,
          2368,
          2384,
          2400,
          2416,
          2432,
          2448,
          2464,
          2480,
          2496,
          2512,
          2528,
          2544,
          2560,
          2576,
          2592,
          2608,
          2624,
          2640,
          2656,
          2672,
          2688,
          2704,
          2720,
          2736,
          2752,
          2768,
          2784,
          2800,
          2816,
          2832,
          2848,
          2864,
          2880,
          2896,
          2912,
          2928,
          2944,
          2960,
          2976,
          2992,
          3008,
          3024,
          3040,
          3056,
          3072,
          3088,
          3104,
          3120,
          3136,
          3152,
          3168,
          3184,
          3200,
          3216,
          3232,
          3248,
          3264,
          3280,
          3296,
          3312,
          3328,
          3344,
          3360,
          3376,
          3392,
          3408,
          3424,
          3440,
          3456,
          3472,
          3488,
          3504,
          3520,
          3536,
          3552,
          3568,
          3584,
          3600,
          3616,
          3632,
          3648,
          3664,
          3680,
          3696,
          3712,
          3728,
          3744,
          3760,
          3776,
          3792,
          3808,
          3824,
          3840,
          3856,
          3872,
          3888,
          3904,
          3920,
          3936,
          3952,
          3968,
          3984,
          4000,
          4016,
          4032,
          4048,
          4064,
          4080,
          4096,
          4112,
          4128
         ],
         "y": [
          -1480,
          -1416,
          -1120,
          -946,
          -832,
          -745,
          -204,
          308,
          802,
          1725,
          2354,
          2482,
          2714,
          2940,
          8252,
          -4041,
          560,
          625,
          14,
          -58,
          30,
          83,
          -65,
          -250,
          -385,
          -583,
          -610,
          -489,
          -132,
          -164,
          -111,
          -184,
          -569,
          -537,
          -1099,
          -2221,
          -1649,
          -1798,
          -1898,
          -1802,
          -1584,
          -1109,
          -1051,
          -980,
          -691,
          -663,
          -642,
          -607,
          201,
          819,
          1296,
          2444,
          3048,
          3158,
          2585,
          2149,
          1367,
          2957,
          788,
          -3896,
          656,
          48,
          -7,
          10,
          173,
          -66,
          -51,
          -635,
          -814,
          -899,
          -882,
          -599,
          -375,
          -91,
          -618,
          -887,
          -1068,
          -2687,
          -2531,
          -2131,
          -1421,
          -1568,
          -1892,
          -1855,
          -1085,
          -956,
          -938,
          -404,
          -195,
          -156,
          263,
          540,
          827,
          2058,
          3128,
          3374,
          3472,
          3348,
          2714,
          2495,
          868,
          106,
          3022,
          -3908,
          2680,
          -182,
          181,
          39,
          55,
          -212,
          -697,
          -939,
          -951,
          -1440,
          -1356,
          -1582,
          -3585,
          -4129,
          -5392,
          -2425,
          -2417,
          -2437,
          -1827,
          -1634,
          -1111,
          -681,
          -144,
          160,
          498,
          1431,
          1959,
          2571,
          2655,
          3278,
          5000,
          2364,
          2888,
          3687,
          2418,
          -248,
          -2881,
          16874,
          -1890,
          1490,
          1674,
          -735,
          -196,
          -441,
          -859,
          -1242,
          -1580,
          -1861,
          -8017,
          -4118,
          -2260,
          -1118,
          -1688,
          -1880,
          -1919,
          -1687,
          -672,
          2619,
          2523,
          1550,
          1802,
          1759,
          1742,
          1354,
          1823,
          2485,
          2430,
          2318,
          1926,
          1268,
          1304,
          2538,
          -14174,
          -11279,
          1812,
          4793,
          2002,
          -367,
          306,
          5,
          14,
          22,
          -3,
          67,
          153,
          118,
          39,
          14,
          28,
          56,
          35,
          88,
          53,
          -17,
          -28,
          -24,
          88,
          -3,
          -42,
          -50,
          -143,
          -149,
          -114,
          -58,
          15,
          5,
          -59,
          -54,
          -118,
          -144,
          -37,
          1,
          10,
          32,
          0,
          -57,
          -83,
          142,
          304,
          251,
          234,
          287,
          299,
          240,
          207,
          175,
          103,
          90,
          73,
          134,
          157,
          145,
          121,
          78,
          50,
          41,
          75,
          102,
          79,
          10,
          -14,
          -18,
          -7,
          29,
          35,
          76,
          60,
          46,
          50,
          63,
          86,
          69,
          91,
          109,
          124
         ]
        }
       ],
       "layout": {
        "autosize": true,
        "dragmode": "pan",
        "template": {
         "data": {
          "bar": [
           {
            "error_x": {
             "color": "#2a3f5f"
            },
            "error_y": {
             "color": "#2a3f5f"
            },
            "marker": {
             "line": {
              "color": "#E5ECF6",
              "width": 0.5
             },
             "pattern": {
              "fillmode": "overlay",
              "size": 10,
              "solidity": 0.2
             }
            },
            "type": "bar"
           }
          ],
          "barpolar": [
           {
            "marker": {
             "line": {
              "color": "#E5ECF6",
              "width": 0.5
             },
             "pattern": {
              "fillmode": "overlay",
              "size": 10,
              "solidity": 0.2
             }
            },
            "type": "barpolar"
           }
          ],
          "carpet": [
           {
            "aaxis": {
             "endlinecolor": "#2a3f5f",
             "gridcolor": "white",
             "linecolor": "white",
             "minorgridcolor": "white",
             "startlinecolor": "#2a3f5f"
            },
            "baxis": {
             "endlinecolor": "#2a3f5f",
             "gridcolor": "white",
             "linecolor": "white",
             "minorgridcolor": "white",
             "startlinecolor": "#2a3f5f"
            },
            "type": "carpet"
           }
          ],
          "choropleth": [
           {
            "colorbar": {
             "outlinewidth": 0,
             "ticks": ""
            },
            "type": "choropleth"
           }
          ],
          "contour": [
           {
            "colorbar": {
             "outlinewidth": 0,
             "ticks": ""
            },
            "colorscale": [
             [
              0,
              "#0d0887"
             ],
             [
              0.1111111111111111,
              "#46039f"
             ],
             [
              0.2222222222222222,
              "#7201a8"
             ],
             [
              0.3333333333333333,
              "#9c179e"
             ],
             [
              0.4444444444444444,
              "#bd3786"
             ],
             [
              0.5555555555555556,
              "#d8576b"
             ],
             [
              0.6666666666666666,
              "#ed7953"
             ],
             [
              0.7777777777777778,
              "#fb9f3a"
             ],
             [
              0.8888888888888888,
              "#fdca26"
             ],
             [
              1,
              "#f0f921"
             ]
            ],
            "type": "contour"
           }
          ],
          "contourcarpet": [
           {
            "colorbar": {
             "outlinewidth": 0,
             "ticks": ""
            },
            "type": "contourcarpet"
           }
          ],
          "heatmap": [
           {
            "colorbar": {
             "outlinewidth": 0,
             "ticks": ""
            },
            "colorscale": [
             [
              0,
              "#0d0887"
             ],
             [
              0.1111111111111111,
              "#46039f"
             ],
             [
              0.2222222222222222,
              "#7201a8"
             ],
             [
              0.3333333333333333,
              "#9c179e"
             ],
             [
              0.4444444444444444,
              "#bd3786"
             ],
             [
              0.5555555555555556,
              "#d8576b"
             ],
             [
              0.6666666666666666,
              "#ed7953"
             ],
             [
              0.7777777777777778,
              "#fb9f3a"
             ],
             [
              0.8888888888888888,
              "#fdca26"
             ],
             [
              1,
              "#f0f921"
             ]
            ],
            "type": "heatmap"
           }
          ],
          "heatmapgl": [
           {
            "colorbar": {
             "outlinewidth": 0,
             "ticks": ""
            },
            "colorscale": [
             [
              0,
              "#0d0887"
             ],
             [
              0.1111111111111111,
              "#46039f"
             ],
             [
              0.2222222222222222,
              "#7201a8"
             ],
             [
              0.3333333333333333,
              "#9c179e"
             ],
             [
              0.4444444444444444,
              "#bd3786"
             ],
             [
              0.5555555555555556,
              "#d8576b"
             ],
             [
              0.6666666666666666,
              "#ed7953"
             ],
             [
              0.7777777777777778,
              "#fb9f3a"
             ],
             [
              0.8888888888888888,
              "#fdca26"
             ],
             [
              1,
              "#f0f921"
             ]
            ],
            "type": "heatmapgl"
           }
          ],
          "histogram": [
           {
            "marker": {
             "pattern": {
              "fillmode": "overlay",
              "size": 10,
              "solidity": 0.2
             }
            },
            "type": "histogram"
           }
          ],
          "histogram2d": [
           {
            "colorbar": {
             "outlinewidth": 0,
             "ticks": ""
            },
            "colorscale": [
             [
              0,
              "#0d0887"
             ],
             [
              0.1111111111111111,
              "#46039f"
             ],
             [
              0.2222222222222222,
              "#7201a8"
             ],
             [
              0.3333333333333333,
              "#9c179e"
             ],
             [
              0.4444444444444444,
              "#bd3786"
             ],
             [
              0.5555555555555556,
              "#d8576b"
             ],
             [
              0.6666666666666666,
              "#ed7953"
             ],
             [
              0.7777777777777778,
              "#fb9f3a"
             ],
             [
              0.8888888888888888,
              "#fdca26"
             ],
             [
              1,
              "#f0f921"
             ]
            ],
            "type": "histogram2d"
           }
          ],
          "histogram2dcontour": [
           {
            "colorbar": {
             "outlinewidth": 0,
             "ticks": ""
            },
            "colorscale": [
             [
              0,
              "#0d0887"
             ],
             [
              0.1111111111111111,
              "#46039f"
             ],
             [
              0.2222222222222222,
              "#7201a8"
             ],
             [
              0.3333333333333333,
              "#9c179e"
             ],
             [
              0.4444444444444444,
              "#bd3786"
             ],
             [
              0.5555555555555556,
              "#d8576b"
             ],
             [
              0.6666666666666666,
              "#ed7953"
             ],
             [
              0.7777777777777778,
              "#fb9f3a"
             ],
             [
              0.8888888888888888,
              "#fdca26"
             ],
             [
              1,
              "#f0f921"
             ]
            ],
            "type": "histogram2dcontour"
           }
          ],
          "mesh3d": [
           {
            "colorbar": {
             "outlinewidth": 0,
             "ticks": ""
            },
            "type": "mesh3d"
           }
          ],
          "parcoords": [
           {
            "line": {
             "colorbar": {
              "outlinewidth": 0,
              "ticks": ""
             }
            },
            "type": "parcoords"
           }
          ],
          "pie": [
           {
            "automargin": true,
            "type": "pie"
           }
          ],
          "scatter": [
           {
            "fillpattern": {
             "fillmode": "overlay",
             "size": 10,
             "solidity": 0.2
            },
            "type": "scatter"
           }
          ],
          "scatter3d": [
           {
            "line": {
             "colorbar": {
              "outlinewidth": 0,
              "ticks": ""
             }
            },
            "marker": {
             "colorbar": {
              "outlinewidth": 0,
              "ticks": ""
             }
            },
            "type": "scatter3d"
           }
          ],
          "scattercarpet": [
           {
            "marker": {
             "colorbar": {
              "outlinewidth": 0,
              "ticks": ""
             }
            },
            "type": "scattercarpet"
           }
          ],
          "scattergeo": [
           {
            "marker": {
             "colorbar": {
              "outlinewidth": 0,
              "ticks": ""
             }
            },
            "type": "scattergeo"
           }
          ],
          "scattergl": [
           {
            "marker": {
             "colorbar": {
              "outlinewidth": 0,
              "ticks": ""
             }
            },
            "type": "scattergl"
           }
          ],
          "scattermapbox": [
           {
            "marker": {
             "colorbar": {
              "outlinewidth": 0,
              "ticks": ""
             }
            },
            "type": "scattermapbox"
           }
          ],
          "scatterpolar": [
           {
            "marker": {
             "colorbar": {
              "outlinewidth": 0,
              "ticks": ""
             }
            },
            "type": "scatterpolar"
           }
          ],
          "scatterpolargl": [
           {
            "marker": {
             "colorbar": {
              "outlinewidth": 0,
              "ticks": ""
             }
            },
            "type": "scatterpolargl"
           }
          ],
          "scatterternary": [
           {
            "marker": {
             "colorbar": {
              "outlinewidth": 0,
              "ticks": ""
             }
            },
            "type": "scatterternary"
           }
          ],
          "surface": [
           {
            "colorbar": {
             "outlinewidth": 0,
             "ticks": ""
            },
            "colorscale": [
             [
              0,
              "#0d0887"
             ],
             [
              0.1111111111111111,
              "#46039f"
             ],
             [
              0.2222222222222222,
              "#7201a8"
             ],
             [
              0.3333333333333333,
              "#9c179e"
             ],
             [
              0.4444444444444444,
              "#bd3786"
             ],
             [
              0.5555555555555556,
              "#d8576b"
             ],
             [
              0.6666666666666666,
              "#ed7953"
             ],
             [
              0.7777777777777778,
              "#fb9f3a"
             ],
             [
              0.8888888888888888,
              "#fdca26"
             ],
             [
              1,
              "#f0f921"
             ]
            ],
            "type": "surface"
           }
          ],
          "table": [
           {
            "cells": {
             "fill": {
              "color": "#EBF0F8"
             },
             "line": {
              "color": "white"
             }
            },
            "header": {
             "fill": {
              "color": "#C8D4E3"
             },
             "line": {
              "color": "white"
             }
            },
            "type": "table"
           }
          ]
         },
         "layout": {
          "annotationdefaults": {
           "arrowcolor": "#2a3f5f",
           "arrowhead": 0,
           "arrowwidth": 1
          },
          "autotypenumbers": "strict",
          "coloraxis": {
           "colorbar": {
            "outlinewidth": 0,
            "ticks": ""
           }
          },
          "colorscale": {
           "diverging": [
            [
             0,
             "#8e0152"
            ],
            [
             0.1,
             "#c51b7d"
            ],
            [
             0.2,
             "#de77ae"
            ],
            [
             0.3,
             "#f1b6da"
            ],
            [
             0.4,
             "#fde0ef"
            ],
            [
             0.5,
             "#f7f7f7"
            ],
            [
             0.6,
             "#e6f5d0"
            ],
            [
             0.7,
             "#b8e186"
            ],
            [
             0.8,
             "#7fbc41"
            ],
            [
             0.9,
             "#4d9221"
            ],
            [
             1,
             "#276419"
            ]
           ],
           "sequential": [
            [
             0,
             "#0d0887"
            ],
            [
             0.1111111111111111,
             "#46039f"
            ],
            [
             0.2222222222222222,
             "#7201a8"
            ],
            [
             0.3333333333333333,
             "#9c179e"
            ],
            [
             0.4444444444444444,
             "#bd3786"
            ],
            [
             0.5555555555555556,
             "#d8576b"
            ],
            [
             0.6666666666666666,
             "#ed7953"
            ],
            [
             0.7777777777777778,
             "#fb9f3a"
            ],
            [
             0.8888888888888888,
             "#fdca26"
            ],
            [
             1,
             "#f0f921"
            ]
           ],
           "sequentialminus": [
            [
             0,
             "#0d0887"
            ],
            [
             0.1111111111111111,
             "#46039f"
            ],
            [
             0.2222222222222222,
             "#7201a8"
            ],
            [
             0.3333333333333333,
             "#9c179e"
            ],
            [
             0.4444444444444444,
             "#bd3786"
            ],
            [
             0.5555555555555556,
             "#d8576b"
            ],
            [
             0.6666666666666666,
             "#ed7953"
            ],
            [
             0.7777777777777778,
             "#fb9f3a"
            ],
            [
             0.8888888888888888,
             "#fdca26"
            ],
            [
             1,
             "#f0f921"
            ]
           ]
          },
          "colorway": [
           "#636efa",
           "#EF553B",
           "#00cc96",
           "#ab63fa",
           "#FFA15A",
           "#19d3f3",
           "#FF6692",
           "#B6E880",
           "#FF97FF",
           "#FECB52"
          ],
          "font": {
           "color": "#2a3f5f"
          },
          "geo": {
           "bgcolor": "white",
           "lakecolor": "white",
           "landcolor": "#E5ECF6",
           "showlakes": true,
           "showland": true,
           "subunitcolor": "white"
          },
          "hoverlabel": {
           "align": "left"
          },
          "hovermode": "closest",
          "mapbox": {
           "style": "light"
          },
          "paper_bgcolor": "white",
          "plot_bgcolor": "#E5ECF6",
          "polar": {
           "angularaxis": {
            "gridcolor": "white",
            "linecolor": "white",
            "ticks": ""
           },
           "bgcolor": "#E5ECF6",
           "radialaxis": {
            "gridcolor": "white",
            "linecolor": "white",
            "ticks": ""
           }
          },
          "scene": {
           "xaxis": {
            "backgroundcolor": "#E5ECF6",
            "gridcolor": "white",
            "gridwidth": 2,
            "linecolor": "white",
            "showbackground": true,
            "ticks": "",
            "zerolinecolor": "white"
           },
           "yaxis": {
            "backgroundcolor": "#E5ECF6",
            "gridcolor": "white",
            "gridwidth": 2,
            "linecolor": "white",
            "showbackground": true,
            "ticks": "",
            "zerolinecolor": "white"
           },
           "zaxis": {
            "backgroundcolor": "#E5ECF6",
            "gridcolor": "white",
            "gridwidth": 2,
            "linecolor": "white",
            "showbackground": true,
            "ticks": "",
            "zerolinecolor": "white"
           }
          },
          "shapedefaults": {
           "line": {
            "color": "#2a3f5f"
           }
          },
          "ternary": {
           "aaxis": {
            "gridcolor": "white",
            "linecolor": "white",
            "ticks": ""
           },
           "baxis": {
            "gridcolor": "white",
            "linecolor": "white",
            "ticks": ""
           },
           "bgcolor": "#E5ECF6",
           "caxis": {
            "gridcolor": "white",
            "linecolor": "white",
            "ticks": ""
           }
          },
          "title": {
           "x": 0.05
          },
          "xaxis": {
           "automargin": true,
           "gridcolor": "white",
           "linecolor": "white",
           "ticks": "",
           "title": {
            "standoff": 15
           },
           "zerolinecolor": "white",
           "zerolinewidth": 2
          },
          "yaxis": {
           "automargin": true,
           "gridcolor": "white",
           "linecolor": "white",
           "ticks": "",
           "title": {
            "standoff": 15
           },
           "zerolinecolor": "white",
           "zerolinewidth": 2
          }
         }
        },
        "title": {
         "text": "Linear_Acceleration vs Time"
        },
        "xaxis": {
         "autorange": false,
         "range": [
          1741.065452218751,
          3387.200421543904
         ],
         "title": {
          "text": "Time"
         },
         "type": "linear"
        },
        "yaxis": {
         "autorange": false,
         "range": [
          -14174,
          20323.77777777778
         ],
         "title": {
          "text": "Acceleration"
         },
         "type": "linear"
        }
       }
      },
      "image/png": "[encoded data removed]",
      "text/html": [
       "<div>                            <div id=\"36752fe2-da11-4496-b8be-b4c370924cc4\" class=\"plotly-graph-div\" style=\"height:525px; width:100%;\"></div>            <script type=\"text/javascript\">                require([\"plotly\"], function(Plotly) {                    window.PLOTLYENV=window.PLOTLYENV || {};                                    if (document.getElementById(\"36752fe2-da11-4496-b8be-b4c370924cc4\")) {                    Plotly.newPlot(                        \"36752fe2-da11-4496-b8be-b4c370924cc4\",                        [{\"mode\":\"lines\",\"name\":\"Linear_Acceleration_R\",\"x\":[0.0,16.0,32.0,48.0,64.0,80.0,96.0,112.0,128.0,144.0,160.0,176.0,192.0,208.0,224.0,240.0,256.0,272.0,288.0,304.0,320.0,336.0,352.0,368.0,384.0,400.0,416.0,432.0,448.0,464.0,480.0,496.0,512.0,528.0,544.0,560.0,576.0,592.0,608.0,624.0,640.0,656.0,672.0,688.0,704.0,720.0,736.0,752.0,768.0,784.0,800.0,816.0,832.0,848.0,864.0,880.0,896.0,912.0,928.0,944.0,960.0,976.0,992.0,1008.0,1024.0,1040.0,1056.0,1072.0,1088.0,1104.0,1120.0,1136.0,1152.0,1168.0,1184.0,1200.0,1216.0,1232.0,1248.0,1264.0,1280.0,1296.0,1312.0,1328.0,1344.0,1360.0,1376.0,1392.0,1408.0,1424.0,1440.0,1456.0,1472.0,1488.0,1504.0,1520.0,1536.0,1552.0,1568.0,1584.0,1600.0,1616.0,1632.0,1648.0,1664.0,1680.0,1696.0,1712.0,1728.0,1744.0,1760.0,1776.0,1792.0,1808.0,1824.0,1840.0,1856.0,1872.0,1888.0,1904.0,1920.0,1936.0,1952.0,1968.0,1984.0,2000.0,2016.0,2032.0,2048.0,2064.0,2080.0,2096.0,2112.0,2128.0,2144.0,2160.0,2176.0,2192.0,2208.0,2224.0,2240.0,2256.0,2272.0,2288.0,2304.0,2320.0,2336.0,2352.0,2368.0,2384.0,2400.0,2416.0,2432.0,2448.0,2464.0,2480.0,2496.0,2512.0,2528.0,2544.0,2560.0,2576.0,2592.0,2608.0,2624.0,2640.0,2656.0,2672.0,2688.0,2704.0,2720.0,2736.0,2752.0,2768.0,2784.0,2800.0,2816.0,2832.0,2848.0,2864.0,2880.0,2896.0,2912.0,2928.0,2944.0,2960.0,2976.0,2992.0,3008.0,3024.0,3040.0,3056.0,3072.0,3088.0,3104.0,3120.0,3136.0,3152.0,3168.0,3184.0,3200.0,3216.0,3232.0,3248.0,3264.0,3280.0,3296.0,3312.0,3328.0,3344.0,3360.0,3376.0,3392.0,3408.0,3424.0,3440.0,3456.0,3472.0,3488.0,3504.0,3520.0,3536.0,3552.0,3568.0,3584.0,3600.0,3616.0,3632.0,3648.0,3664.0,3680.0,3696.0,3712.0,3728.0,3744.0,3760.0,3776.0,3792.0,3808.0,3824.0,3840.0,3856.0,3872.0,3888.0,3904.0,3920.0,3936.0,3952.0,3968.0,3984.0,4000.0,4016.0,4032.0,4048.0,4064.0,4080.0,4096.0,4112.0,4128.0],\"y\":[-58.0,-355.0,-41.0,-123.0,-186.0,-103.0,207.0,91.0,192.0,111.0,-177.0,-254.0,-248.0,-216.0,-203.0,-670.0,-331.0,-177.0,-237.0,28.0,6.0,-150.0,-236.0,-240.0,-363.0,-223.0,186.0,493.0,507.0,622.0,816.0,784.0,647.0,1856.0,-796.0,1078.0,-1140.0,-942.0,503.0,33.0,-5.0,54.0,-49.0,-311.0,-134.0,-338.0,-186.0,-147.0,362.0,435.0,-207.0,263.0,-136.0,-446.0,-116.0,-618.0,-712.0,-616.0,-336.0,-2.0,-160.0,-172.0,111.0,131.0,97.0,146.0,59.0,-201.0,14.0,368.0,438.0,256.0,523.0,938.0,846.0,795.0,662.0,542.0,1989.0,-1631.0,-1726.0,155.0,414.0,-130.0,178.0,86.0,218.0,-42.0,-35.0,-704.0,-322.0,-308.0,-309.0,329.0,-37.0,235.0,-453.0,179.0,245.0,-1788.0,-1379.0,-1549.0,-820.0,-297.0,-25.0,212.0,351.0,643.0,437.0,364.0,549.0,424.0,175.0,1174.0,1864.0,2400.0,1595.0,1334.0,1424.0,-482.0,1670.0,-3141.0,494.0,-779.0,386.0,-16.0,225.0,-178.0,-17.0,-232.0,-70.0,-529.0,-248.0,251.0,172.0,210.0,-428.0,-97.0,269.0,-2751.0,299.0,903.0,733.0,-92.0,-884.0,-1669.0,-2186.0,-1636.0,-547.0,366.0,420.0,815.0,2106.0,1836.0,1113.0,320.0,-356.0,7070.0,-10941.0,5279.0,-2140.0,-82.0,428.0,258.0,-96.0,3.0,-82.0,-215.0,-564.0,-590.0,-665.0,-513.0,195.0,477.0,336.0,-104.0,-103.0,-523.0,-873.0,-911.0,2420.0,3872.0,-2139.0,-5157.0,-1485.0,964.0,1360.0,680.0,-1320.0,-232.0,-635.0,-1044.0,286.0,734.0,856.0,1064.0,966.0,581.0,128.0,67.0,53.0,59.0,212.0,417.0,584.0,364.0,-429.0,-249.0,510.0,308.0,-317.0,-796.0,-432.0,-99.0,-171.0,4164.0,-2181.0,-32.0,-2313.0,-89.0,721.0,85.0,-213.0,-9.0,97.0,-127.0,116.0,25.0,24.0,-10.0,-55.0,-22.0,52.0,58.0,59.0,26.0,-1.0,-29.0,4.0,52.0,0.0,-10.0,-12.0,8.0,4.0,12.0,3.0,-1.0,-20.0,-10.0,14.0,15.0,0.0,0.0,6.0,3.0,-2.0,-1.0,-1.0],\"type\":\"scatter\"},{\"mode\":\"lines\",\"name\":\"Linear_Acceleration_L\",\"x\":[0.0,16.0,32.0,48.0,64.0,80.0,96.0,112.0,128.0,144.0,160.0,176.0,192.0,208.0,224.0,240.0,256.0,272.0,288.0,304.0,320.0,336.0,352.0,368.0,384.0,400.0,416.0,432.0,448.0,464.0,480.0,496.0,512.0,528.0,544.0,560.0,576.0,592.0,608.0,624.0,640.0,656.0,672.0,688.0,704.0,720.0,736.0,752.0,768.0,784.0,800.0,816.0,832.0,848.0,864.0,880.0,896.0,912.0,928.0,944.0,960.0,976.0,992.0,1008.0,1024.0,1040.0,1056.0,1072.0,1088.0,1104.0,1120.0,1136.0,1152.0,1168.0,1184.0,1200.0,1216.0,1232.0,1248.0,1264.0,1280.0,1296.0,1312.0,1328.0,1344.0,1360.0,1376.0,1392.0,1408.0,1424.0,1440.0,1456.0,1472.0,1488.0,1504.0,1520.0,1536.0,1552.0,1568.0,1584.0,1600.0,1616.0,1632.0,1648.0,1664.0,1680.0,1696.0,1712.0,1728.0,1744.0,1760.0,1776.0,1792.0,1808.0,1824.0,1840.0,1856.0,1872.0,1888.0,1904.0,1920.0,1936.0,1952.0,1968.0,1984.0,2000.0,2016.0,2032.0,2048.0,2064.0,2080.0,2096.0,2112.0,2128.0,2144.0,2160.0,2176.0,2192.0,2208.0,2224.0,2240.0,2256.0,2272.0,2288.0,2304.0,2320.0,2336.0,2352.0,2368.0,2384.0,2400.0,2416.0,2432.0,2448.0,2464.0,2480.0,2496.0,2512.0,2528.0,2544.0,2560.0,2576.0,2592.0,2608.0,2624.0,2640.0,2656.0,2672.0,2688.0,2704.0,2720.0,2736.0,2752.0,2768.0,2784.0,2800.0,2816.0,2832.0,2848.0,2864.0,2880.0,2896.0,2912.0,2928.0,2944.0,2960.0,2976.0,2992.0,3008.0,3024.0,3040.0,3056.0,3072.0,3088.0,3104.0,3120.0,3136.0,3152.0,3168.0,3184.0,3200.0,3216.0,3232.0,3248.0,3264.0,3280.0,3296.0,3312.0,3328.0,3344.0,3360.0,3376.0,3392.0,3408.0,3424.0,3440.0,3456.0,3472.0,3488.0,3504.0,3520.0,3536.0,3552.0,3568.0,3584.0,3600.0,3616.0,3632.0,3648.0,3664.0,3680.0,3696.0,3712.0,3728.0,3744.0,3760.0,3776.0,3792.0,3808.0,3824.0,3840.0,3856.0,3872.0,3888.0,3904.0,3920.0,3936.0,3952.0,3968.0,3984.0,4000.0,4016.0,4032.0,4048.0,4064.0,4080.0,4096.0,4112.0,4128.0],\"y\":[-1480.0,-1416.0,-1120.0,-946.0,-832.0,-745.0,-204.0,308.0,802.0,1725.0,2354.0,2482.0,2714.0,2940.0,8252.0,-4041.0,560.0,625.0,14.0,-58.0,30.0,83.0,-65.0,-250.0,-385.0,-583.0,-610.0,-489.0,-132.0,-164.0,-111.0,-184.0,-569.0,-537.0,-1099.0,-2221.0,-1649.0,-1798.0,-1898.0,-1802.0,-1584.0,-1109.0,-1051.0,-980.0,-691.0,-663.0,-642.0,-607.0,201.0,819.0,1296.0,2444.0,3048.0,3158.0,2585.0,2149.0,1367.0,2957.0,788.0,-3896.0,656.0,48.0,-7.0,10.0,173.0,-66.0,-51.0,-635.0,-814.0,-899.0,-882.0,-599.0,-375.0,-91.0,-618.0,-887.0,-1068.0,-2687.0,-2531.0,-2131.0,-1421.0,-1568.0,-1892.0,-1855.0,-1085.0,-956.0,-938.0,-404.0,-195.0,-156.0,263.0,540.0,827.0,2058.0,3128.0,3374.0,3472.0,3348.0,2714.0,2495.0,868.0,106.0,3022.0,-3908.0,2680.0,-182.0,181.0,39.0,55.0,-212.0,-697.0,-939.0,-951.0,-1440.0,-1356.0,-1582.0,-3585.0,-4129.0,-5392.0,-2425.0,-2417.0,-2437.0,-1827.0,-1634.0,-1111.0,-681.0,-144.0,160.0,498.0,1431.0,1959.0,2571.0,2655.0,3278.0,5000.0,2364.0,2888.0,3687.0,2418.0,-248.0,-2881.0,16874.0,-1890.0,1490.0,1674.0,-735.0,-196.0,-441.0,-859.0,-1242.0,-1580.0,-1861.0,-8017.0,-4118.0,-2260.0,-1118.0,-1688.0,-1880.0,-1919.0,-1687.0,-672.0,2619.0,2523.0,1550.0,1802.0,1759.0,1742.0,1354.0,1823.0,2485.0,2430.0,2318.0,1926.0,1268.0,1304.0,2538.0,-14174.0,-11279.0,1812.0,4793.0,2002.0,-367.0,306.0,5.0,14.0,22.0,-3.0,67.0,153.0,118.0,39.0,14.0,28.0,56.0,35.0,88.0,53.0,-17.0,-28.0,-24.0,88.0,-3.0,-42.0,-50.0,-143.0,-149.0,-114.0,-58.0,15.0,5.0,-59.0,-54.0,-118.0,-144.0,-37.0,1.0,10.0,32.0,0.0,-57.0,-83.0,142.0,304.0,251.0,234.0,287.0,299.0,240.0,207.0,175.0,103.0,90.0,73.0,134.0,157.0,145.0,121.0,78.0,50.0,41.0,75.0,102.0,79.0,10.0,-14.0,-18.0,-7.0,29.0,35.0,76.0,60.0,46.0,50.0,63.0,86.0,69.0,91.0,109.0,124.0],\"type\":\"scatter\"}],                        {\"template\":{\"data\":{\"histogram2dcontour\":[{\"type\":\"histogram2dcontour\",\"colorbar\":{\"outlinewidth\":0,\"ticks\":\"\"},\"colorscale\":[[0.0,\"#0d0887\"],[0.1111111111111111,\"#46039f\"],[0.2222222222222222,\"#7201a8\"],[0.3333333333333333,\"#9c179e\"],[0.4444444444444444,\"#bd3786\"],[0.5555555555555556,\"#d8576b\"],[0.6666666666666666,\"#ed7953\"],[0.7777777777777778,\"#fb9f3a\"],[0.8888888888888888,\"#fdca26\"],[1.0,\"#f0f921\"]]}],\"choropleth\":[{\"type\":\"choropleth\",\"colorbar\":{\"outlinewidth\":0,\"ticks\":\"\"}}],\"histogram2d\":[{\"type\":\"histogram2d\",\"colorbar\":{\"outlinewidth\":0,\"ticks\":\"\"},\"colorscale\":[[0.0,\"#0d0887\"],[0.1111111111111111,\"#46039f\"],[0.2222222222222222,\"#7201a8\"],[0.3333333333333333,\"#9c179e\"],[0.4444444444444444,\"#bd3786\"],[0.5555555555555556,\"#d8576b\"],[0.6666666666666666,\"#ed7953\"],[0.7777777777777778,\"#fb9f3a\"],[0.8888888888888888,\"#fdca26\"],[1.0,\"#f0f921\"]]}],\"heatmap\":[{\"type\":\"heatmap\",\"colorbar\":{\"outlinewidth\":0,\"ticks\":\"\"},\"colorscale\":[[0.0,\"#0d0887\"],[0.1111111111111111,\"#46039f\"],[0.2222222222222222,\"#7201a8\"],[0.3333333333333333,\"#9c179e\"],[0.4444444444444444,\"#bd3786\"],[0.5555555555555556,\"#d8576b\"],[0.6666666666666666,\"#ed7953\"],[0.7777777777777778,\"#fb9f3a\"],[0.8888888888888888,\"#fdca26\"],[1.0,\"#f0f921\"]]}],\"heatmapgl\":[{\"type\":\"heatmapgl\",\"colorbar\":{\"outlinewidth\":0,\"ticks\":\"\"},\"colorscale\":[[0.0,\"#0d0887\"],[0.1111111111111111,\"#46039f\"],[0.2222222222222222,\"#7201a8\"],[0.3333333333333333,\"#9c179e\"],[0.4444444444444444,\"#bd3786\"],[0.5555555555555556,\"#d8576b\"],[0.6666666666666666,\"#ed7953\"],[0.7777777777777778,\"#fb9f3a\"],[0.8888888888888888,\"#fdca26\"],[1.0,\"#f0f921\"]]}],\"contourcarpet\":[{\"type\":\"contourcarpet\",\"colorbar\":{\"outlinewidth\":0,\"ticks\":\"\"}}],\"contour\":[{\"type\":\"contour\",\"colorbar\":{\"outlinewidth\":0,\"ticks\":\"\"},\"colorscale\":[[0.0,\"#0d0887\"],[0.1111111111111111,\"#46039f\"],[0.2222222222222222,\"#7201a8\"],[0.3333333333333333,\"#9c179e\"],[0.4444444444444444,\"#bd3786\"],[0.5555555555555556,\"#d8576b\"],[0.6666666666666666,\"#ed7953\"],[0.7777777777777778,\"#fb9f3a\"],[0.8888888888888888,\"#fdca26\"],[1.0,\"#f0f921\"]]}],\"surface\":[{\"type\":\"surface\",\"colorbar\":{\"outlinewidth\":0,\"ticks\":\"\"},\"colorscale\":[[0.0,\"#0d0887\"],[0.1111111111111111,\"#46039f\"],[0.2222222222222222,\"#7201a8\"],[0.3333333333333333,\"#9c179e\"],[0.4444444444444444,\"#bd3786\"],[0.5555555555555556,\"#d8576b\"],[0.6666666666666666,\"#ed7953\"],[0.7777777777777778,\"#fb9f3a\"],[0.8888888888888888,\"#fdca26\"],[1.0,\"#f0f921\"]]}],\"mesh3d\":[{\"type\":\"mesh3d\",\"colorbar\":{\"outlinewidth\":0,\"ticks\":\"\"}}],\"scatter\":[{\"fillpattern\":{\"fillmode\":\"overlay\",\"size\":10,\"solidity\":0.2},\"type\":\"scatter\"}],\"parcoords\":[{\"type\":\"parcoords\",\"line\":{\"colorbar\":{\"outlinewidth\":0,\"ticks\":\"\"}}}],\"scatterpolargl\":[{\"type\":\"scatterpolargl\",\"marker\":{\"colorbar\":{\"outlinewidth\":0,\"ticks\":\"\"}}}],\"bar\":[{\"error_x\":{\"color\":\"#2a3f5f\"},\"error_y\":{\"color\":\"#2a3f5f\"},\"marker\":{\"line\":{\"color\":\"#E5ECF6\",\"width\":0.5},\"pattern\":{\"fillmode\":\"overlay\",\"size\":10,\"solidity\":0.2}},\"type\":\"bar\"}],\"scattergeo\":[{\"type\":\"scattergeo\",\"marker\":{\"colorbar\":{\"outlinewidth\":0,\"ticks\":\"\"}}}],\"scatterpolar\":[{\"type\":\"scatterpolar\",\"marker\":{\"colorbar\":{\"outlinewidth\":0,\"ticks\":\"\"}}}],\"histogram\":[{\"marker\":{\"pattern\":{\"fillmode\":\"overlay\",\"size\":10,\"solidity\":0.2}},\"type\":\"histogram\"}],\"scattergl\":[{\"type\":\"scattergl\",\"marker\":{\"colorbar\":{\"outlinewidth\":0,\"ticks\":\"\"}}}],\"scatter3d\":[{\"type\":\"scatter3d\",\"line\":{\"colorbar\":{\"outlinewidth\":0,\"ticks\":\"\"}},\"marker\":{\"colorbar\":{\"outlinewidth\":0,\"ticks\":\"\"}}}],\"scattermapbox\":[{\"type\":\"scattermapbox\",\"marker\":{\"colorbar\":{\"outlinewidth\":0,\"ticks\":\"\"}}}],\"scatterternary\":[{\"type\":\"scatterternary\",\"marker\":{\"colorbar\":{\"outlinewidth\":0,\"ticks\":\"\"}}}],\"scattercarpet\":[{\"type\":\"scattercarpet\",\"marker\":{\"colorbar\":{\"outlinewidth\":0,\"ticks\":\"\"}}}],\"carpet\":[{\"aaxis\":{\"endlinecolor\":\"#2a3f5f\",\"gridcolor\":\"white\",\"linecolor\":\"white\",\"minorgridcolor\":\"white\",\"startlinecolor\":\"#2a3f5f\"},\"baxis\":{\"endlinecolor\":\"#2a3f5f\",\"gridcolor\":\"white\",\"linecolor\":\"white\",\"minorgridcolor\":\"white\",\"startlinecolor\":\"#2a3f5f\"},\"type\":\"carpet\"}],\"table\":[{\"cells\":{\"fill\":{\"color\":\"#EBF0F8\"},\"line\":{\"color\":\"white\"}},\"header\":{\"fill\":{\"color\":\"#C8D4E3\"},\"line\":{\"color\":\"white\"}},\"type\":\"table\"}],\"barpolar\":[{\"marker\":{\"line\":{\"color\":\"#E5ECF6\",\"width\":0.5},\"pattern\":{\"fillmode\":\"overlay\",\"size\":10,\"solidity\":0.2}},\"type\":\"barpolar\"}],\"pie\":[{\"automargin\":true,\"type\":\"pie\"}]},\"layout\":{\"autotypenumbers\":\"strict\",\"colorway\":[\"#636efa\",\"#EF553B\",\"#00cc96\",\"#ab63fa\",\"#FFA15A\",\"#19d3f3\",\"#FF6692\",\"#B6E880\",\"#FF97FF\",\"#FECB52\"],\"font\":{\"color\":\"#2a3f5f\"},\"hovermode\":\"closest\",\"hoverlabel\":{\"align\":\"left\"},\"paper_bgcolor\":\"white\",\"plot_bgcolor\":\"#E5ECF6\",\"polar\":{\"bgcolor\":\"#E5ECF6\",\"angularaxis\":{\"gridcolor\":\"white\",\"linecolor\":\"white\",\"ticks\":\"\"},\"radialaxis\":{\"gridcolor\":\"white\",\"linecolor\":\"white\",\"ticks\":\"\"}},\"ternary\":{\"bgcolor\":\"#E5ECF6\",\"aaxis\":{\"gridcolor\":\"white\",\"linecolor\":\"white\",\"ticks\":\"\"},\"baxis\":{\"gridcolor\":\"white\",\"linecolor\":\"white\",\"ticks\":\"\"},\"caxis\":{\"gridcolor\":\"white\",\"linecolor\":\"white\",\"ticks\":\"\"}},\"coloraxis\":{\"colorbar\":{\"outlinewidth\":0,\"ticks\":\"\"}},\"colorscale\":{\"sequential\":[[0.0,\"#0d0887\"],[0.1111111111111111,\"#46039f\"],[0.2222222222222222,\"#7201a8\"],[0.3333333333333333,\"#9c179e\"],[0.4444444444444444,\"#bd3786\"],[0.5555555555555556,\"#d8576b\"],[0.6666666666666666,\"#ed7953\"],[0.7777777777777778,\"#fb9f3a\"],[0.8888888888888888,\"#fdca26\"],[1.0,\"#f0f921\"]],\"sequentialminus\":[[0.0,\"#0d0887\"],[0.1111111111111111,\"#46039f\"],[0.2222222222222222,\"#7201a8\"],[0.3333333333333333,\"#9c179e\"],[0.4444444444444444,\"#bd3786\"],[0.5555555555555556,\"#d8576b\"],[0.6666666666666666,\"#ed7953\"],[0.7777777777777778,\"#fb9f3a\"],[0.8888888888888888,\"#fdca26\"],[1.0,\"#f0f921\"]],\"diverging\":[[0,\"#8e0152\"],[0.1,\"#c51b7d\"],[0.2,\"#de77ae\"],[0.3,\"#f1b6da\"],[0.4,\"#fde0ef\"],[0.5,\"#f7f7f7\"],[0.6,\"#e6f5d0\"],[0.7,\"#b8e186\"],[0.8,\"#7fbc41\"],[0.9,\"#4d9221\"],[1,\"#276419\"]]},\"xaxis\":{\"gridcolor\":\"white\",\"linecolor\":\"white\",\"ticks\":\"\",\"title\":{\"standoff\":15},\"zerolinecolor\":\"white\",\"automargin\":true,\"zerolinewidth\":2},\"yaxis\":{\"gridcolor\":\"white\",\"linecolor\":\"white\",\"ticks\":\"\",\"title\":{\"standoff\":15},\"zerolinecolor\":\"white\",\"automargin\":true,\"zerolinewidth\":2},\"scene\":{\"xaxis\":{\"backgroundcolor\":\"#E5ECF6\",\"gridcolor\":\"white\",\"linecolor\":\"white\",\"showbackground\":true,\"ticks\":\"\",\"zerolinecolor\":\"white\",\"gridwidth\":2},\"yaxis\":{\"backgroundcolor\":\"#E5ECF6\",\"gridcolor\":\"white\",\"linecolor\":\"white\",\"showbackground\":true,\"ticks\":\"\",\"zerolinecolor\":\"white\",\"gridwidth\":2},\"zaxis\":{\"backgroundcolor\":\"#E5ECF6\",\"gridcolor\":\"white\",\"linecolor\":\"white\",\"showbackground\":true,\"ticks\":\"\",\"zerolinecolor\":\"white\",\"gridwidth\":2}},\"shapedefaults\":{\"line\":{\"color\":\"#2a3f5f\"}},\"annotationdefaults\":{\"arrowcolor\":\"#2a3f5f\",\"arrowhead\":0,\"arrowwidth\":1},\"geo\":{\"bgcolor\":\"white\",\"landcolor\":\"#E5ECF6\",\"subunitcolor\":\"white\",\"showland\":true,\"showlakes\":true,\"lakecolor\":\"white\"},\"title\":{\"x\":0.05},\"mapbox\":{\"style\":\"light\"}}},\"title\":{\"text\":\"Linear_Acceleration vs Time\"},\"xaxis\":{\"title\":{\"text\":\"Time\"}},\"yaxis\":{\"title\":{\"text\":\"Acceleration\"}}},                        {\"responsive\": true}                    ).then(function(){\n",
       "                            \n",
       "var gd = document.getElementById('36752fe2-da11-4496-b8be-b4c370924cc4');\n",
       "var x = new MutationObserver(function (mutations, observer) {{\n",
       "        var display = window.getComputedStyle(gd).display;\n",
       "        if (!display || display === 'none') {{\n",
       "            console.log([gd, 'removed!']);\n",
       "            Plotly.purge(gd);\n",
       "            observer.disconnect();\n",
       "        }}\n",
       "}});\n",
       "\n",
       "// Listen for the removal of the full notebook cells\n",
       "var notebookContainer = gd.closest('#notebook-container');\n",
       "if (notebookContainer) {{\n",
       "    x.observe(notebookContainer, {childList: true});\n",
       "}}\n",
       "\n",
       "// Listen for the clearing of the current output cell\n",
       "var outputEl = gd.closest('.output');\n",
       "if (outputEl) {{\n",
       "    x.observe(outputEl, {childList: true});\n",
       "}}\n",
       "\n",
       "                        })                };                });            </script>        </div>"
      ]
     },
     "metadata": {},
     "output_type": "display_data"
    }
   ],
   "source": [
    "import plotly.graph_objects as go\n",
    "import pandas as pd\n",
    "\n",
    "#Sample data (replace with your actual data)\n",
    "#time_column = [0, 1, 2, 3, 4, 5]\n",
    "#acceleration1_column = [10, 12, 15, 18, 20, 22]\n",
    "#acceleration2_column = [8, 11, 14, 16, 19, 21]\n",
    "#\n",
    "## Create traces for each acceleration column\n",
    "#trace1 = go.Scatter(x=Time, y=acceleration1_column, mode='lines', name='Acceleration 1')\n",
    "#trace2 = go.Scatter(x=time_column, y=acceleration2_column, mode='lines', name='Acceleration 2')\n",
    "#\n",
    "## Create the figure with traces\n",
    "#fig = go.Figure([trace1, trace2])\n",
    "#\n",
    "## Customize layout\n",
    "#fig.update_layout(title='Acceleration vs Time',\n",
    "#                  xaxis_title='Time',\n",
    "#                  yaxis_title='Acceleration')\n",
    "#\n",
    "## Display the plot\n",
    "#fig.show()\n",
    "\n",
    "\n",
    "trace1 = go.Scatter(x=df['Time'], y=df['Ax_R'], mode='lines', name='Linear_Acceleration_R')\n",
    "trace2 = go.Scatter(x=df['Time'], y=df['Ax_L'], mode='lines', name='Linear_Acceleration_L')\n",
    "#Create the figure with traces\n",
    "fig = go.Figure([trace1, trace2])\n",
    "\n",
    "# Customize layout\n",
    "fig.update_layout(title='Linear_Acceleration vs Time',\n",
    "                  xaxis_title='Time',\n",
    "                  yaxis_title='Acceleration')\n",
    "\n",
    "# Display the plot\n",
    "fig.show()\n"
   ]
  },
  {
   "cell_type": "code",
   "execution_count": 22,
   "id": "61bef781-164d-402d-b7af-b5c5a90a6256",
   "metadata": {},
   "outputs": [],
   "source": [
    "frames = df['Time']/60"
   ]
  },
  {
   "cell_type": "code",
   "execution_count": 23,
   "id": "7de8109a-277f-4ae7-8f3c-0d3e516380ac",
   "metadata": {},
   "outputs": [
    {
     "data": {
      "text/plain": [
       "1       0.000000\n",
       "2       0.266667\n",
       "3       0.533333\n",
       "4       0.800000\n",
       "5       1.066667\n",
       "         ...    \n",
       "255    67.733333\n",
       "256    68.000000\n",
       "257    68.266667\n",
       "258    68.533333\n",
       "259    68.800000\n",
       "Name: Time, Length: 259, dtype: float64"
      ]
     },
     "execution_count": 23,
     "metadata": {},
     "output_type": "execute_result"
    }
   ],
   "source": [
    "frames"
   ]
  },
  {
   "cell_type": "code",
   "execution_count": 24,
   "id": "4b5581c7-7941-49bf-9df1-5030f1a583cf",
   "metadata": {},
   "outputs": [
    {
     "data": {
      "application/vnd.plotly.v1+json": {
       "config": {
        "plotlyServerURL": "https://plot.ly"
       },
       "data": [
        {
         "mode": "lines",
         "name": "Linear_Acceleration_R",
         "type": "scatter",
         "x": [
          0,
          0.26666666666666666,
          0.5333333333333333,
          0.8,
          1.0666666666666667,
          1.3333333333333333,
          1.6,
          1.8666666666666667,
          2.1333333333333333,
          2.4,
          2.6666666666666665,
          2.933333333333333,
          3.2,
          3.466666666666667,
          3.7333333333333334,
          4,
          4.266666666666667,
          4.533333333333333,
          4.8,
          5.066666666666666,
          5.333333333333333,
          5.6,
          5.866666666666666,
          6.133333333333334,
          6.4,
          6.666666666666667,
          6.933333333333334,
          7.2,
          7.466666666666667,
          7.733333333333333,
          8,
          8.266666666666667,
          8.533333333333333,
          8.8,
          9.066666666666666,
          9.333333333333334,
          9.6,
          9.866666666666667,
          10.133333333333333,
          10.4,
          10.666666666666666,
          10.933333333333334,
          11.2,
          11.466666666666667,
          11.733333333333333,
          12,
          12.266666666666667,
          12.533333333333333,
          12.8,
          13.066666666666666,
          13.333333333333334,
          13.6,
          13.866666666666667,
          14.133333333333333,
          14.4,
          14.666666666666666,
          14.933333333333334,
          15.2,
          15.466666666666667,
          15.733333333333333,
          16,
          16.266666666666666,
          16.533333333333335,
          16.8,
          17.066666666666666,
          17.333333333333332,
          17.6,
          17.866666666666667,
          18.133333333333333,
          18.4,
          18.666666666666668,
          18.933333333333334,
          19.2,
          19.466666666666665,
          19.733333333333334,
          20,
          20.266666666666666,
          20.533333333333335,
          20.8,
          21.066666666666666,
          21.333333333333332,
          21.6,
          21.866666666666667,
          22.133333333333333,
          22.4,
          22.666666666666668,
          22.933333333333334,
          23.2,
          23.466666666666665,
          23.733333333333334,
          24,
          24.266666666666666,
          24.533333333333335,
          24.8,
          25.066666666666666,
          25.333333333333332,
          25.6,
          25.866666666666667,
          26.133333333333333,
          26.4,
          26.666666666666668,
          26.933333333333334,
          27.2,
          27.466666666666665,
          27.733333333333334,
          28,
          28.266666666666666,
          28.533333333333335,
          28.8,
          29.066666666666666,
          29.333333333333332,
          29.6,
          29.866666666666667,
          30.133333333333333,
          30.4,
          30.666666666666668,
          30.933333333333334,
          31.2,
          31.466666666666665,
          31.733333333333334,
          32,
          32.266666666666666,
          32.53333333333333,
          32.8,
          33.06666666666667,
          33.333333333333336,
          33.6,
          33.86666666666667,
          34.13333333333333,
          34.4,
          34.666666666666664,
          34.93333333333333,
          35.2,
          35.46666666666667,
          35.733333333333334,
          36,
          36.266666666666666,
          36.53333333333333,
          36.8,
          37.06666666666667,
          37.333333333333336,
          37.6,
          37.86666666666667,
          38.13333333333333,
          38.4,
          38.666666666666664,
          38.93333333333333,
          39.2,
          39.46666666666667,
          39.733333333333334,
          40,
          40.266666666666666,
          40.53333333333333,
          40.8,
          41.06666666666667,
          41.333333333333336,
          41.6,
          41.86666666666667,
          42.13333333333333,
          42.4,
          42.666666666666664,
          42.93333333333333,
          43.2,
          43.46666666666667,
          43.733333333333334,
          44,
          44.266666666666666,
          44.53333333333333,
          44.8,
          45.06666666666667,
          45.333333333333336,
          45.6,
          45.86666666666667,
          46.13333333333333,
          46.4,
          46.666666666666664,
          46.93333333333333,
          47.2,
          47.46666666666667,
          47.733333333333334,
          48,
          48.266666666666666,
          48.53333333333333,
          48.8,
          49.06666666666667,
          49.333333333333336,
          49.6,
          49.86666666666667,
          50.13333333333333,
          50.4,
          50.666666666666664,
          50.93333333333333,
          51.2,
          51.46666666666667,
          51.733333333333334,
          52,
          52.266666666666666,
          52.53333333333333,
          52.8,
          53.06666666666667,
          53.333333333333336,
          53.6,
          53.86666666666667,
          54.13333333333333,
          54.4,
          54.666666666666664,
          54.93333333333333,
          55.2,
          55.46666666666667,
          55.733333333333334,
          56,
          56.266666666666666,
          56.53333333333333,
          56.8,
          57.06666666666667,
          57.333333333333336,
          57.6,
          57.86666666666667,
          58.13333333333333,
          58.4,
          58.666666666666664,
          58.93333333333333,
          59.2,
          59.46666666666667,
          59.733333333333334,
          60,
          60.266666666666666,
          60.53333333333333,
          60.8,
          61.06666666666667,
          61.333333333333336,
          61.6,
          61.86666666666667,
          62.13333333333333,
          62.4,
          62.666666666666664,
          62.93333333333333,
          63.2,
          63.46666666666667,
          63.733333333333334,
          64,
          64.26666666666667,
          64.53333333333333,
          64.8,
          65.06666666666666,
          65.33333333333333,
          65.6,
          65.86666666666666,
          66.13333333333334,
          66.4,
          66.66666666666667,
          66.93333333333334,
          67.2,
          67.46666666666667,
          67.73333333333333,
          68,
          68.26666666666667,
          68.53333333333333,
          68.8
         ],
         "y": [
          -58,
          -355,
          -41,
          -123,
          -186,
          -103,
          207,
          91,
          192,
          111,
          -177,
          -254,
          -248,
          -216,
          -203,
          -670,
          -331,
          -177,
          -237,
          28,
          6,
          -150,
          -236,
          -240,
          -363,
          -223,
          186,
          493,
          507,
          622,
          816,
          784,
          647,
          1856,
          -796,
          1078,
          -1140,
          -942,
          503,
          33,
          -5,
          54,
          -49,
          -311,
          -134,
          -338,
          -186,
          -147,
          362,
          435,
          -207,
          263,
          -136,
          -446,
          -116,
          -618,
          -712,
          -616,
          -336,
          -2,
          -160,
          -172,
          111,
          131,
          97,
          146,
          59,
          -201,
          14,
          368,
          438,
          256,
          523,
          938,
          846,
          795,
          662,
          542,
          1989,
          -1631,
          -1726,
          155,
          414,
          -130,
          178,
          86,
          218,
          -42,
          -35,
          -704,
          -322,
          -308,
          -309,
          329,
          -37,
          235,
          -453,
          179,
          245,
          -1788,
          -1379,
          -1549,
          -820,
          -297,
          -25,
          212,
          351,
          643,
          437,
          364,
          549,
          424,
          175,
          1174,
          1864,
          2400,
          1595,
          1334,
          1424,
          -482,
          1670,
          -3141,
          494,
          -779,
          386,
          -16,
          225,
          -178,
          -17,
          -232,
          -70,
          -529,
          -248,
          251,
          172,
          210,
          -428,
          -97,
          269,
          -2751,
          299,
          903,
          733,
          -92,
          -884,
          -1669,
          -2186,
          -1636,
          -547,
          366,
          420,
          815,
          2106,
          1836,
          1113,
          320,
          -356,
          7070,
          -10941,
          5279,
          -2140,
          -82,
          428,
          258,
          -96,
          3,
          -82,
          -215,
          -564,
          -590,
          -665,
          -513,
          195,
          477,
          336,
          -104,
          -103,
          -523,
          -873,
          -911,
          2420,
          3872,
          -2139,
          -5157,
          -1485,
          964,
          1360,
          680,
          -1320,
          -232,
          -635,
          -1044,
          286,
          734,
          856,
          1064,
          966,
          581,
          128,
          67,
          53,
          59,
          212,
          417,
          584,
          364,
          -429,
          -249,
          510,
          308,
          -317,
          -796,
          -432,
          -99,
          -171,
          4164,
          -2181,
          -32,
          -2313,
          -89,
          721,
          85,
          -213,
          -9,
          97,
          -127,
          116,
          25,
          24,
          -10,
          -55,
          -22,
          52,
          58,
          59,
          26,
          -1,
          -29,
          4,
          52,
          0,
          -10,
          -12,
          8,
          4,
          12,
          3,
          -1,
          -20,
          -10,
          14,
          15,
          0,
          0,
          6,
          3,
          -2,
          -1,
          -1
         ]
        },
        {
         "mode": "lines",
         "name": "Linear_Acceleration_L",
         "type": "scatter",
         "x": [
          0,
          0.26666666666666666,
          0.5333333333333333,
          0.8,
          1.0666666666666667,
          1.3333333333333333,
          1.6,
          1.8666666666666667,
          2.1333333333333333,
          2.4,
          2.6666666666666665,
          2.933333333333333,
          3.2,
          3.466666666666667,
          3.7333333333333334,
          4,
          4.266666666666667,
          4.533333333333333,
          4.8,
          5.066666666666666,
          5.333333333333333,
          5.6,
          5.866666666666666,
          6.133333333333334,
          6.4,
          6.666666666666667,
          6.933333333333334,
          7.2,
          7.466666666666667,
          7.733333333333333,
          8,
          8.266666666666667,
          8.533333333333333,
          8.8,
          9.066666666666666,
          9.333333333333334,
          9.6,
          9.866666666666667,
          10.133333333333333,
          10.4,
          10.666666666666666,
          10.933333333333334,
          11.2,
          11.466666666666667,
          11.733333333333333,
          12,
          12.266666666666667,
          12.533333333333333,
          12.8,
          13.066666666666666,
          13.333333333333334,
          13.6,
          13.866666666666667,
          14.133333333333333,
          14.4,
          14.666666666666666,
          14.933333333333334,
          15.2,
          15.466666666666667,
          15.733333333333333,
          16,
          16.266666666666666,
          16.533333333333335,
          16.8,
          17.066666666666666,
          17.333333333333332,
          17.6,
          17.866666666666667,
          18.133333333333333,
          18.4,
          18.666666666666668,
          18.933333333333334,
          19.2,
          19.466666666666665,
          19.733333333333334,
          20,
          20.266666666666666,
          20.533333333333335,
          20.8,
          21.066666666666666,
          21.333333333333332,
          21.6,
          21.866666666666667,
          22.133333333333333,
          22.4,
          22.666666666666668,
          22.933333333333334,
          23.2,
          23.466666666666665,
          23.733333333333334,
          24,
          24.266666666666666,
          24.533333333333335,
          24.8,
          25.066666666666666,
          25.333333333333332,
          25.6,
          25.866666666666667,
          26.133333333333333,
          26.4,
          26.666666666666668,
          26.933333333333334,
          27.2,
          27.466666666666665,
          27.733333333333334,
          28,
          28.266666666666666,
          28.533333333333335,
          28.8,
          29.066666666666666,
          29.333333333333332,
          29.6,
          29.866666666666667,
          30.133333333333333,
          30.4,
          30.666666666666668,
          30.933333333333334,
          31.2,
          31.466666666666665,
          31.733333333333334,
          32,
          32.266666666666666,
          32.53333333333333,
          32.8,
          33.06666666666667,
          33.333333333333336,
          33.6,
          33.86666666666667,
          34.13333333333333,
          34.4,
          34.666666666666664,
          34.93333333333333,
          35.2,
          35.46666666666667,
          35.733333333333334,
          36,
          36.266666666666666,
          36.53333333333333,
          36.8,
          37.06666666666667,
          37.333333333333336,
          37.6,
          37.86666666666667,
          38.13333333333333,
          38.4,
          38.666666666666664,
          38.93333333333333,
          39.2,
          39.46666666666667,
          39.733333333333334,
          40,
          40.266666666666666,
          40.53333333333333,
          40.8,
          41.06666666666667,
          41.333333333333336,
          41.6,
          41.86666666666667,
          42.13333333333333,
          42.4,
          42.666666666666664,
          42.93333333333333,
          43.2,
          43.46666666666667,
          43.733333333333334,
          44,
          44.266666666666666,
          44.53333333333333,
          44.8,
          45.06666666666667,
          45.333333333333336,
          45.6,
          45.86666666666667,
          46.13333333333333,
          46.4,
          46.666666666666664,
          46.93333333333333,
          47.2,
          47.46666666666667,
          47.733333333333334,
          48,
          48.266666666666666,
          48.53333333333333,
          48.8,
          49.06666666666667,
          49.333333333333336,
          49.6,
          49.86666666666667,
          50.13333333333333,
          50.4,
          50.666666666666664,
          50.93333333333333,
          51.2,
          51.46666666666667,
          51.733333333333334,
          52,
          52.266666666666666,
          52.53333333333333,
          52.8,
          53.06666666666667,
          53.333333333333336,
          53.6,
          53.86666666666667,
          54.13333333333333,
          54.4,
          54.666666666666664,
          54.93333333333333,
          55.2,
          55.46666666666667,
          55.733333333333334,
          56,
          56.266666666666666,
          56.53333333333333,
          56.8,
          57.06666666666667,
          57.333333333333336,
          57.6,
          57.86666666666667,
          58.13333333333333,
          58.4,
          58.666666666666664,
          58.93333333333333,
          59.2,
          59.46666666666667,
          59.733333333333334,
          60,
          60.266666666666666,
          60.53333333333333,
          60.8,
          61.06666666666667,
          61.333333333333336,
          61.6,
          61.86666666666667,
          62.13333333333333,
          62.4,
          62.666666666666664,
          62.93333333333333,
          63.2,
          63.46666666666667,
          63.733333333333334,
          64,
          64.26666666666667,
          64.53333333333333,
          64.8,
          65.06666666666666,
          65.33333333333333,
          65.6,
          65.86666666666666,
          66.13333333333334,
          66.4,
          66.66666666666667,
          66.93333333333334,
          67.2,
          67.46666666666667,
          67.73333333333333,
          68,
          68.26666666666667,
          68.53333333333333,
          68.8
         ],
         "y": [
          -1480,
          -1416,
          -1120,
          -946,
          -832,
          -745,
          -204,
          308,
          802,
          1725,
          2354,
          2482,
          2714,
          2940,
          8252,
          -4041,
          560,
          625,
          14,
          -58,
          30,
          83,
          -65,
          -250,
          -385,
          -583,
          -610,
          -489,
          -132,
          -164,
          -111,
          -184,
          -569,
          -537,
          -1099,
          -2221,
          -1649,
          -1798,
          -1898,
          -1802,
          -1584,
          -1109,
          -1051,
          -980,
          -691,
          -663,
          -642,
          -607,
          201,
          819,
          1296,
          2444,
          3048,
          3158,
          2585,
          2149,
          1367,
          2957,
          788,
          -3896,
          656,
          48,
          -7,
          10,
          173,
          -66,
          -51,
          -635,
          -814,
          -899,
          -882,
          -599,
          -375,
          -91,
          -618,
          -887,
          -1068,
          -2687,
          -2531,
          -2131,
          -1421,
          -1568,
          -1892,
          -1855,
          -1085,
          -956,
          -938,
          -404,
          -195,
          -156,
          263,
          540,
          827,
          2058,
          3128,
          3374,
          3472,
          3348,
          2714,
          2495,
          868,
          106,
          3022,
          -3908,
          2680,
          -182,
          181,
          39,
          55,
          -212,
          -697,
          -939,
          -951,
          -1440,
          -1356,
          -1582,
          -3585,
          -4129,
          -5392,
          -2425,
          -2417,
          -2437,
          -1827,
          -1634,
          -1111,
          -681,
          -144,
          160,
          498,
          1431,
          1959,
          2571,
          2655,
          3278,
          5000,
          2364,
          2888,
          3687,
          2418,
          -248,
          -2881,
          16874,
          -1890,
          1490,
          1674,
          -735,
          -196,
          -441,
          -859,
          -1242,
          -1580,
          -1861,
          -8017,
          -4118,
          -2260,
          -1118,
          -1688,
          -1880,
          -1919,
          -1687,
          -672,
          2619,
          2523,
          1550,
          1802,
          1759,
          1742,
          1354,
          1823,
          2485,
          2430,
          2318,
          1926,
          1268,
          1304,
          2538,
          -14174,
          -11279,
          1812,
          4793,
          2002,
          -367,
          306,
          5,
          14,
          22,
          -3,
          67,
          153,
          118,
          39,
          14,
          28,
          56,
          35,
          88,
          53,
          -17,
          -28,
          -24,
          88,
          -3,
          -42,
          -50,
          -143,
          -149,
          -114,
          -58,
          15,
          5,
          -59,
          -54,
          -118,
          -144,
          -37,
          1,
          10,
          32,
          0,
          -57,
          -83,
          142,
          304,
          251,
          234,
          287,
          299,
          240,
          207,
          175,
          103,
          90,
          73,
          134,
          157,
          145,
          121,
          78,
          50,
          41,
          75,
          102,
          79,
          10,
          -14,
          -18,
          -7,
          29,
          35,
          76,
          60,
          46,
          50,
          63,
          86,
          69,
          91,
          109,
          124
         ]
        }
       ],
       "layout": {
        "autosize": true,
        "template": {
         "data": {
          "bar": [
           {
            "error_x": {
             "color": "#2a3f5f"
            },
            "error_y": {
             "color": "#2a3f5f"
            },
            "marker": {
             "line": {
              "color": "#E5ECF6",
              "width": 0.5
             },
             "pattern": {
              "fillmode": "overlay",
              "size": 10,
              "solidity": 0.2
             }
            },
            "type": "bar"
           }
          ],
          "barpolar": [
           {
            "marker": {
             "line": {
              "color": "#E5ECF6",
              "width": 0.5
             },
             "pattern": {
              "fillmode": "overlay",
              "size": 10,
              "solidity": 0.2
             }
            },
            "type": "barpolar"
           }
          ],
          "carpet": [
           {
            "aaxis": {
             "endlinecolor": "#2a3f5f",
             "gridcolor": "white",
             "linecolor": "white",
             "minorgridcolor": "white",
             "startlinecolor": "#2a3f5f"
            },
            "baxis": {
             "endlinecolor": "#2a3f5f",
             "gridcolor": "white",
             "linecolor": "white",
             "minorgridcolor": "white",
             "startlinecolor": "#2a3f5f"
            },
            "type": "carpet"
           }
          ],
          "choropleth": [
           {
            "colorbar": {
             "outlinewidth": 0,
             "ticks": ""
            },
            "type": "choropleth"
           }
          ],
          "contour": [
           {
            "colorbar": {
             "outlinewidth": 0,
             "ticks": ""
            },
            "colorscale": [
             [
              0,
              "#0d0887"
             ],
             [
              0.1111111111111111,
              "#46039f"
             ],
             [
              0.2222222222222222,
              "#7201a8"
             ],
             [
              0.3333333333333333,
              "#9c179e"
             ],
             [
              0.4444444444444444,
              "#bd3786"
             ],
             [
              0.5555555555555556,
              "#d8576b"
             ],
             [
              0.6666666666666666,
              "#ed7953"
             ],
             [
              0.7777777777777778,
              "#fb9f3a"
             ],
             [
              0.8888888888888888,
              "#fdca26"
             ],
             [
              1,
              "#f0f921"
             ]
            ],
            "type": "contour"
           }
          ],
          "contourcarpet": [
           {
            "colorbar": {
             "outlinewidth": 0,
             "ticks": ""
            },
            "type": "contourcarpet"
           }
          ],
          "heatmap": [
           {
            "colorbar": {
             "outlinewidth": 0,
             "ticks": ""
            },
            "colorscale": [
             [
              0,
              "#0d0887"
             ],
             [
              0.1111111111111111,
              "#46039f"
             ],
             [
              0.2222222222222222,
              "#7201a8"
             ],
             [
              0.3333333333333333,
              "#9c179e"
             ],
             [
              0.4444444444444444,
              "#bd3786"
             ],
             [
              0.5555555555555556,
              "#d8576b"
             ],
             [
              0.6666666666666666,
              "#ed7953"
             ],
             [
              0.7777777777777778,
              "#fb9f3a"
             ],
             [
              0.8888888888888888,
              "#fdca26"
             ],
             [
              1,
              "#f0f921"
             ]
            ],
            "type": "heatmap"
           }
          ],
          "heatmapgl": [
           {
            "colorbar": {
             "outlinewidth": 0,
             "ticks": ""
            },
            "colorscale": [
             [
              0,
              "#0d0887"
             ],
             [
              0.1111111111111111,
              "#46039f"
             ],
             [
              0.2222222222222222,
              "#7201a8"
             ],
             [
              0.3333333333333333,
              "#9c179e"
             ],
             [
              0.4444444444444444,
              "#bd3786"
             ],
             [
              0.5555555555555556,
              "#d8576b"
             ],
             [
              0.6666666666666666,
              "#ed7953"
             ],
             [
              0.7777777777777778,
              "#fb9f3a"
             ],
             [
              0.8888888888888888,
              "#fdca26"
             ],
             [
              1,
              "#f0f921"
             ]
            ],
            "type": "heatmapgl"
           }
          ],
          "histogram": [
           {
            "marker": {
             "pattern": {
              "fillmode": "overlay",
              "size": 10,
              "solidity": 0.2
             }
            },
            "type": "histogram"
           }
          ],
          "histogram2d": [
           {
            "colorbar": {
             "outlinewidth": 0,
             "ticks": ""
            },
            "colorscale": [
             [
              0,
              "#0d0887"
             ],
             [
              0.1111111111111111,
              "#46039f"
             ],
             [
              0.2222222222222222,
              "#7201a8"
             ],
             [
              0.3333333333333333,
              "#9c179e"
             ],
             [
              0.4444444444444444,
              "#bd3786"
             ],
             [
              0.5555555555555556,
              "#d8576b"
             ],
             [
              0.6666666666666666,
              "#ed7953"
             ],
             [
              0.7777777777777778,
              "#fb9f3a"
             ],
             [
              0.8888888888888888,
              "#fdca26"
             ],
             [
              1,
              "#f0f921"
             ]
            ],
            "type": "histogram2d"
           }
          ],
          "histogram2dcontour": [
           {
            "colorbar": {
             "outlinewidth": 0,
             "ticks": ""
            },
            "colorscale": [
             [
              0,
              "#0d0887"
             ],
             [
              0.1111111111111111,
              "#46039f"
             ],
             [
              0.2222222222222222,
              "#7201a8"
             ],
             [
              0.3333333333333333,
              "#9c179e"
             ],
             [
              0.4444444444444444,
              "#bd3786"
             ],
             [
              0.5555555555555556,
              "#d8576b"
             ],
             [
              0.6666666666666666,
              "#ed7953"
             ],
             [
              0.7777777777777778,
              "#fb9f3a"
             ],
             [
              0.8888888888888888,
              "#fdca26"
             ],
             [
              1,
              "#f0f921"
             ]
            ],
            "type": "histogram2dcontour"
           }
          ],
          "mesh3d": [
           {
            "colorbar": {
             "outlinewidth": 0,
             "ticks": ""
            },
            "type": "mesh3d"
           }
          ],
          "parcoords": [
           {
            "line": {
             "colorbar": {
              "outlinewidth": 0,
              "ticks": ""
             }
            },
            "type": "parcoords"
           }
          ],
          "pie": [
           {
            "automargin": true,
            "type": "pie"
           }
          ],
          "scatter": [
           {
            "fillpattern": {
             "fillmode": "overlay",
             "size": 10,
             "solidity": 0.2
            },
            "type": "scatter"
           }
          ],
          "scatter3d": [
           {
            "line": {
             "colorbar": {
              "outlinewidth": 0,
              "ticks": ""
             }
            },
            "marker": {
             "colorbar": {
              "outlinewidth": 0,
              "ticks": ""
             }
            },
            "type": "scatter3d"
           }
          ],
          "scattercarpet": [
           {
            "marker": {
             "colorbar": {
              "outlinewidth": 0,
              "ticks": ""
             }
            },
            "type": "scattercarpet"
           }
          ],
          "scattergeo": [
           {
            "marker": {
             "colorbar": {
              "outlinewidth": 0,
              "ticks": ""
             }
            },
            "type": "scattergeo"
           }
          ],
          "scattergl": [
           {
            "marker": {
             "colorbar": {
              "outlinewidth": 0,
              "ticks": ""
             }
            },
            "type": "scattergl"
           }
          ],
          "scattermapbox": [
           {
            "marker": {
             "colorbar": {
              "outlinewidth": 0,
              "ticks": ""
             }
            },
            "type": "scattermapbox"
           }
          ],
          "scatterpolar": [
           {
            "marker": {
             "colorbar": {
              "outlinewidth": 0,
              "ticks": ""
             }
            },
            "type": "scatterpolar"
           }
          ],
          "scatterpolargl": [
           {
            "marker": {
             "colorbar": {
              "outlinewidth": 0,
              "ticks": ""
             }
            },
            "type": "scatterpolargl"
           }
          ],
          "scatterternary": [
           {
            "marker": {
             "colorbar": {
              "outlinewidth": 0,
              "ticks": ""
             }
            },
            "type": "scatterternary"
           }
          ],
          "surface": [
           {
            "colorbar": {
             "outlinewidth": 0,
             "ticks": ""
            },
            "colorscale": [
             [
              0,
              "#0d0887"
             ],
             [
              0.1111111111111111,
              "#46039f"
             ],
             [
              0.2222222222222222,
              "#7201a8"
             ],
             [
              0.3333333333333333,
              "#9c179e"
             ],
             [
              0.4444444444444444,
              "#bd3786"
             ],
             [
              0.5555555555555556,
              "#d8576b"
             ],
             [
              0.6666666666666666,
              "#ed7953"
             ],
             [
              0.7777777777777778,
              "#fb9f3a"
             ],
             [
              0.8888888888888888,
              "#fdca26"
             ],
             [
              1,
              "#f0f921"
             ]
            ],
            "type": "surface"
           }
          ],
          "table": [
           {
            "cells": {
             "fill": {
              "color": "#EBF0F8"
             },
             "line": {
              "color": "white"
             }
            },
            "header": {
             "fill": {
              "color": "#C8D4E3"
             },
             "line": {
              "color": "white"
             }
            },
            "type": "table"
           }
          ]
         },
         "layout": {
          "annotationdefaults": {
           "arrowcolor": "#2a3f5f",
           "arrowhead": 0,
           "arrowwidth": 1
          },
          "autotypenumbers": "strict",
          "coloraxis": {
           "colorbar": {
            "outlinewidth": 0,
            "ticks": ""
           }
          },
          "colorscale": {
           "diverging": [
            [
             0,
             "#8e0152"
            ],
            [
             0.1,
             "#c51b7d"
            ],
            [
             0.2,
             "#de77ae"
            ],
            [
             0.3,
             "#f1b6da"
            ],
            [
             0.4,
             "#fde0ef"
            ],
            [
             0.5,
             "#f7f7f7"
            ],
            [
             0.6,
             "#e6f5d0"
            ],
            [
             0.7,
             "#b8e186"
            ],
            [
             0.8,
             "#7fbc41"
            ],
            [
             0.9,
             "#4d9221"
            ],
            [
             1,
             "#276419"
            ]
           ],
           "sequential": [
            [
             0,
             "#0d0887"
            ],
            [
             0.1111111111111111,
             "#46039f"
            ],
            [
             0.2222222222222222,
             "#7201a8"
            ],
            [
             0.3333333333333333,
             "#9c179e"
            ],
            [
             0.4444444444444444,
             "#bd3786"
            ],
            [
             0.5555555555555556,
             "#d8576b"
            ],
            [
             0.6666666666666666,
             "#ed7953"
            ],
            [
             0.7777777777777778,
             "#fb9f3a"
            ],
            [
             0.8888888888888888,
             "#fdca26"
            ],
            [
             1,
             "#f0f921"
            ]
           ],
           "sequentialminus": [
            [
             0,
             "#0d0887"
            ],
            [
             0.1111111111111111,
             "#46039f"
            ],
            [
             0.2222222222222222,
             "#7201a8"
            ],
            [
             0.3333333333333333,
             "#9c179e"
            ],
            [
             0.4444444444444444,
             "#bd3786"
            ],
            [
             0.5555555555555556,
             "#d8576b"
            ],
            [
             0.6666666666666666,
             "#ed7953"
            ],
            [
             0.7777777777777778,
             "#fb9f3a"
            ],
            [
             0.8888888888888888,
             "#fdca26"
            ],
            [
             1,
             "#f0f921"
            ]
           ]
          },
          "colorway": [
           "#636efa",
           "#EF553B",
           "#00cc96",
           "#ab63fa",
           "#FFA15A",
           "#19d3f3",
           "#FF6692",
           "#B6E880",
           "#FF97FF",
           "#FECB52"
          ],
          "font": {
           "color": "#2a3f5f"
          },
          "geo": {
           "bgcolor": "white",
           "lakecolor": "white",
           "landcolor": "#E5ECF6",
           "showlakes": true,
           "showland": true,
           "subunitcolor": "white"
          },
          "hoverlabel": {
           "align": "left"
          },
          "hovermode": "closest",
          "mapbox": {
           "style": "light"
          },
          "paper_bgcolor": "white",
          "plot_bgcolor": "#E5ECF6",
          "polar": {
           "angularaxis": {
            "gridcolor": "white",
            "linecolor": "white",
            "ticks": ""
           },
           "bgcolor": "#E5ECF6",
           "radialaxis": {
            "gridcolor": "white",
            "linecolor": "white",
            "ticks": ""
           }
          },
          "scene": {
           "xaxis": {
            "backgroundcolor": "#E5ECF6",
            "gridcolor": "white",
            "gridwidth": 2,
            "linecolor": "white",
            "showbackground": true,
            "ticks": "",
            "zerolinecolor": "white"
           },
           "yaxis": {
            "backgroundcolor": "#E5ECF6",
            "gridcolor": "white",
            "gridwidth": 2,
            "linecolor": "white",
            "showbackground": true,
            "ticks": "",
            "zerolinecolor": "white"
           },
           "zaxis": {
            "backgroundcolor": "#E5ECF6",
            "gridcolor": "white",
            "gridwidth": 2,
            "linecolor": "white",
            "showbackground": true,
            "ticks": "",
            "zerolinecolor": "white"
           }
          },
          "shapedefaults": {
           "line": {
            "color": "#2a3f5f"
           }
          },
          "ternary": {
           "aaxis": {
            "gridcolor": "white",
            "linecolor": "white",
            "ticks": ""
           },
           "baxis": {
            "gridcolor": "white",
            "linecolor": "white",
            "ticks": ""
           },
           "bgcolor": "#E5ECF6",
           "caxis": {
            "gridcolor": "white",
            "linecolor": "white",
            "ticks": ""
           }
          },
          "title": {
           "x": 0.05
          },
          "xaxis": {
           "automargin": true,
           "gridcolor": "white",
           "linecolor": "white",
           "ticks": "",
           "title": {
            "standoff": 15
           },
           "zerolinecolor": "white",
           "zerolinewidth": 2
          },
          "yaxis": {
           "automargin": true,
           "gridcolor": "white",
           "linecolor": "white",
           "ticks": "",
           "title": {
            "standoff": 15
           },
           "zerolinecolor": "white",
           "zerolinewidth": 2
          }
         }
        },
        "title": {
         "text": "Linear_Acceleration vs Time"
        },
        "xaxis": {
         "autorange": true,
         "range": [
          0,
          68.8
         ],
         "title": {
          "text": "Time"
         },
         "type": "linear"
        },
        "yaxis": {
         "autorange": true,
         "range": [
          -15898.888888888889,
          18598.88888888889
         ],
         "title": {
          "text": "Acceleration"
         },
         "type": "linear"
        }
       }
      },
      "image/png": "[encoded data removed]",
      "text/html": [
       "<div>                            <div id=\"86c3bd61-2d4a-411e-9c61-fe32c35e76eb\" class=\"plotly-graph-div\" style=\"height:525px; width:100%;\"></div>            <script type=\"text/javascript\">                require([\"plotly\"], function(Plotly) {                    window.PLOTLYENV=window.PLOTLYENV || {};                                    if (document.getElementById(\"86c3bd61-2d4a-411e-9c61-fe32c35e76eb\")) {                    Plotly.newPlot(                        \"86c3bd61-2d4a-411e-9c61-fe32c35e76eb\",                        [{\"mode\":\"lines\",\"name\":\"Linear_Acceleration_R\",\"x\":[0.0,0.26666666666666666,0.5333333333333333,0.8,1.0666666666666667,1.3333333333333333,1.6,1.8666666666666667,2.1333333333333333,2.4,2.6666666666666665,2.933333333333333,3.2,3.466666666666667,3.7333333333333334,4.0,4.266666666666667,4.533333333333333,4.8,5.066666666666666,5.333333333333333,5.6,5.866666666666666,6.133333333333334,6.4,6.666666666666667,6.933333333333334,7.2,7.466666666666667,7.733333333333333,8.0,8.266666666666667,8.533333333333333,8.8,9.066666666666666,9.333333333333334,9.6,9.866666666666667,10.133333333333333,10.4,10.666666666666666,10.933333333333334,11.2,11.466666666666667,11.733333333333333,12.0,12.266666666666667,12.533333333333333,12.8,13.066666666666666,13.333333333333334,13.6,13.866666666666667,14.133333333333333,14.4,14.666666666666666,14.933333333333334,15.2,15.466666666666667,15.733333333333333,16.0,16.266666666666666,16.533333333333335,16.8,17.066666666666666,17.333333333333332,17.6,17.866666666666667,18.133333333333333,18.4,18.666666666666668,18.933333333333334,19.2,19.466666666666665,19.733333333333334,20.0,20.266666666666666,20.533333333333335,20.8,21.066666666666666,21.333333333333332,21.6,21.866666666666667,22.133333333333333,22.4,22.666666666666668,22.933333333333334,23.2,23.466666666666665,23.733333333333334,24.0,24.266666666666666,24.533333333333335,24.8,25.066666666666666,25.333333333333332,25.6,25.866666666666667,26.133333333333333,26.4,26.666666666666668,26.933333333333334,27.2,27.466666666666665,27.733333333333334,28.0,28.266666666666666,28.533333333333335,28.8,29.066666666666666,29.333333333333332,29.6,29.866666666666667,30.133333333333333,30.4,30.666666666666668,30.933333333333334,31.2,31.466666666666665,31.733333333333334,32.0,32.266666666666666,32.53333333333333,32.8,33.06666666666667,33.333333333333336,33.6,33.86666666666667,34.13333333333333,34.4,34.666666666666664,34.93333333333333,35.2,35.46666666666667,35.733333333333334,36.0,36.266666666666666,36.53333333333333,36.8,37.06666666666667,37.333333333333336,37.6,37.86666666666667,38.13333333333333,38.4,38.666666666666664,38.93333333333333,39.2,39.46666666666667,39.733333333333334,40.0,40.266666666666666,40.53333333333333,40.8,41.06666666666667,41.333333333333336,41.6,41.86666666666667,42.13333333333333,42.4,42.666666666666664,42.93333333333333,43.2,43.46666666666667,43.733333333333334,44.0,44.266666666666666,44.53333333333333,44.8,45.06666666666667,45.333333333333336,45.6,45.86666666666667,46.13333333333333,46.4,46.666666666666664,46.93333333333333,47.2,47.46666666666667,47.733333333333334,48.0,48.266666666666666,48.53333333333333,48.8,49.06666666666667,49.333333333333336,49.6,49.86666666666667,50.13333333333333,50.4,50.666666666666664,50.93333333333333,51.2,51.46666666666667,51.733333333333334,52.0,52.266666666666666,52.53333333333333,52.8,53.06666666666667,53.333333333333336,53.6,53.86666666666667,54.13333333333333,54.4,54.666666666666664,54.93333333333333,55.2,55.46666666666667,55.733333333333334,56.0,56.266666666666666,56.53333333333333,56.8,57.06666666666667,57.333333333333336,57.6,57.86666666666667,58.13333333333333,58.4,58.666666666666664,58.93333333333333,59.2,59.46666666666667,59.733333333333334,60.0,60.266666666666666,60.53333333333333,60.8,61.06666666666667,61.333333333333336,61.6,61.86666666666667,62.13333333333333,62.4,62.666666666666664,62.93333333333333,63.2,63.46666666666667,63.733333333333334,64.0,64.26666666666667,64.53333333333333,64.8,65.06666666666666,65.33333333333333,65.6,65.86666666666666,66.13333333333334,66.4,66.66666666666667,66.93333333333334,67.2,67.46666666666667,67.73333333333333,68.0,68.26666666666667,68.53333333333333,68.8],\"y\":[-58.0,-355.0,-41.0,-123.0,-186.0,-103.0,207.0,91.0,192.0,111.0,-177.0,-254.0,-248.0,-216.0,-203.0,-670.0,-331.0,-177.0,-237.0,28.0,6.0,-150.0,-236.0,-240.0,-363.0,-223.0,186.0,493.0,507.0,622.0,816.0,784.0,647.0,1856.0,-796.0,1078.0,-1140.0,-942.0,503.0,33.0,-5.0,54.0,-49.0,-311.0,-134.0,-338.0,-186.0,-147.0,362.0,435.0,-207.0,263.0,-136.0,-446.0,-116.0,-618.0,-712.0,-616.0,-336.0,-2.0,-160.0,-172.0,111.0,131.0,97.0,146.0,59.0,-201.0,14.0,368.0,438.0,256.0,523.0,938.0,846.0,795.0,662.0,542.0,1989.0,-1631.0,-1726.0,155.0,414.0,-130.0,178.0,86.0,218.0,-42.0,-35.0,-704.0,-322.0,-308.0,-309.0,329.0,-37.0,235.0,-453.0,179.0,245.0,-1788.0,-1379.0,-1549.0,-820.0,-297.0,-25.0,212.0,351.0,643.0,437.0,364.0,549.0,424.0,175.0,1174.0,1864.0,2400.0,1595.0,1334.0,1424.0,-482.0,1670.0,-3141.0,494.0,-779.0,386.0,-16.0,225.0,-178.0,-17.0,-232.0,-70.0,-529.0,-248.0,251.0,172.0,210.0,-428.0,-97.0,269.0,-2751.0,299.0,903.0,733.0,-92.0,-884.0,-1669.0,-2186.0,-1636.0,-547.0,366.0,420.0,815.0,2106.0,1836.0,1113.0,320.0,-356.0,7070.0,-10941.0,5279.0,-2140.0,-82.0,428.0,258.0,-96.0,3.0,-82.0,-215.0,-564.0,-590.0,-665.0,-513.0,195.0,477.0,336.0,-104.0,-103.0,-523.0,-873.0,-911.0,2420.0,3872.0,-2139.0,-5157.0,-1485.0,964.0,1360.0,680.0,-1320.0,-232.0,-635.0,-1044.0,286.0,734.0,856.0,1064.0,966.0,581.0,128.0,67.0,53.0,59.0,212.0,417.0,584.0,364.0,-429.0,-249.0,510.0,308.0,-317.0,-796.0,-432.0,-99.0,-171.0,4164.0,-2181.0,-32.0,-2313.0,-89.0,721.0,85.0,-213.0,-9.0,97.0,-127.0,116.0,25.0,24.0,-10.0,-55.0,-22.0,52.0,58.0,59.0,26.0,-1.0,-29.0,4.0,52.0,0.0,-10.0,-12.0,8.0,4.0,12.0,3.0,-1.0,-20.0,-10.0,14.0,15.0,0.0,0.0,6.0,3.0,-2.0,-1.0,-1.0],\"type\":\"scatter\"},{\"mode\":\"lines\",\"name\":\"Linear_Acceleration_L\",\"x\":[0.0,0.26666666666666666,0.5333333333333333,0.8,1.0666666666666667,1.3333333333333333,1.6,1.8666666666666667,2.1333333333333333,2.4,2.6666666666666665,2.933333333333333,3.2,3.466666666666667,3.7333333333333334,4.0,4.266666666666667,4.533333333333333,4.8,5.066666666666666,5.333333333333333,5.6,5.866666666666666,6.133333333333334,6.4,6.666666666666667,6.933333333333334,7.2,7.466666666666667,7.733333333333333,8.0,8.266666666666667,8.533333333333333,8.8,9.066666666666666,9.333333333333334,9.6,9.866666666666667,10.133333333333333,10.4,10.666666666666666,10.933333333333334,11.2,11.466666666666667,11.733333333333333,12.0,12.266666666666667,12.533333333333333,12.8,13.066666666666666,13.333333333333334,13.6,13.866666666666667,14.133333333333333,14.4,14.666666666666666,14.933333333333334,15.2,15.466666666666667,15.733333333333333,16.0,16.266666666666666,16.533333333333335,16.8,17.066666666666666,17.333333333333332,17.6,17.866666666666667,18.133333333333333,18.4,18.666666666666668,18.933333333333334,19.2,19.466666666666665,19.733333333333334,20.0,20.266666666666666,20.533333333333335,20.8,21.066666666666666,21.333333333333332,21.6,21.866666666666667,22.133333333333333,22.4,22.666666666666668,22.933333333333334,23.2,23.466666666666665,23.733333333333334,24.0,24.266666666666666,24.533333333333335,24.8,25.066666666666666,25.333333333333332,25.6,25.866666666666667,26.133333333333333,26.4,26.666666666666668,26.933333333333334,27.2,27.466666666666665,27.733333333333334,28.0,28.266666666666666,28.533333333333335,28.8,29.066666666666666,29.333333333333332,29.6,29.866666666666667,30.133333333333333,30.4,30.666666666666668,30.933333333333334,31.2,31.466666666666665,31.733333333333334,32.0,32.266666666666666,32.53333333333333,32.8,33.06666666666667,33.333333333333336,33.6,33.86666666666667,34.13333333333333,34.4,34.666666666666664,34.93333333333333,35.2,35.46666666666667,35.733333333333334,36.0,36.266666666666666,36.53333333333333,36.8,37.06666666666667,37.333333333333336,37.6,37.86666666666667,38.13333333333333,38.4,38.666666666666664,38.93333333333333,39.2,39.46666666666667,39.733333333333334,40.0,40.266666666666666,40.53333333333333,40.8,41.06666666666667,41.333333333333336,41.6,41.86666666666667,42.13333333333333,42.4,42.666666666666664,42.93333333333333,43.2,43.46666666666667,43.733333333333334,44.0,44.266666666666666,44.53333333333333,44.8,45.06666666666667,45.333333333333336,45.6,45.86666666666667,46.13333333333333,46.4,46.666666666666664,46.93333333333333,47.2,47.46666666666667,47.733333333333334,48.0,48.266666666666666,48.53333333333333,48.8,49.06666666666667,49.333333333333336,49.6,49.86666666666667,50.13333333333333,50.4,50.666666666666664,50.93333333333333,51.2,51.46666666666667,51.733333333333334,52.0,52.266666666666666,52.53333333333333,52.8,53.06666666666667,53.333333333333336,53.6,53.86666666666667,54.13333333333333,54.4,54.666666666666664,54.93333333333333,55.2,55.46666666666667,55.733333333333334,56.0,56.266666666666666,56.53333333333333,56.8,57.06666666666667,57.333333333333336,57.6,57.86666666666667,58.13333333333333,58.4,58.666666666666664,58.93333333333333,59.2,59.46666666666667,59.733333333333334,60.0,60.266666666666666,60.53333333333333,60.8,61.06666666666667,61.333333333333336,61.6,61.86666666666667,62.13333333333333,62.4,62.666666666666664,62.93333333333333,63.2,63.46666666666667,63.733333333333334,64.0,64.26666666666667,64.53333333333333,64.8,65.06666666666666,65.33333333333333,65.6,65.86666666666666,66.13333333333334,66.4,66.66666666666667,66.93333333333334,67.2,67.46666666666667,67.73333333333333,68.0,68.26666666666667,68.53333333333333,68.8],\"y\":[-1480.0,-1416.0,-1120.0,-946.0,-832.0,-745.0,-204.0,308.0,802.0,1725.0,2354.0,2482.0,2714.0,2940.0,8252.0,-4041.0,560.0,625.0,14.0,-58.0,30.0,83.0,-65.0,-250.0,-385.0,-583.0,-610.0,-489.0,-132.0,-164.0,-111.0,-184.0,-569.0,-537.0,-1099.0,-2221.0,-1649.0,-1798.0,-1898.0,-1802.0,-1584.0,-1109.0,-1051.0,-980.0,-691.0,-663.0,-642.0,-607.0,201.0,819.0,1296.0,2444.0,3048.0,3158.0,2585.0,2149.0,1367.0,2957.0,788.0,-3896.0,656.0,48.0,-7.0,10.0,173.0,-66.0,-51.0,-635.0,-814.0,-899.0,-882.0,-599.0,-375.0,-91.0,-618.0,-887.0,-1068.0,-2687.0,-2531.0,-2131.0,-1421.0,-1568.0,-1892.0,-1855.0,-1085.0,-956.0,-938.0,-404.0,-195.0,-156.0,263.0,540.0,827.0,2058.0,3128.0,3374.0,3472.0,3348.0,2714.0,2495.0,868.0,106.0,3022.0,-3908.0,2680.0,-182.0,181.0,39.0,55.0,-212.0,-697.0,-939.0,-951.0,-1440.0,-1356.0,-1582.0,-3585.0,-4129.0,-5392.0,-2425.0,-2417.0,-2437.0,-1827.0,-1634.0,-1111.0,-681.0,-144.0,160.0,498.0,1431.0,1959.0,2571.0,2655.0,3278.0,5000.0,2364.0,2888.0,3687.0,2418.0,-248.0,-2881.0,16874.0,-1890.0,1490.0,1674.0,-735.0,-196.0,-441.0,-859.0,-1242.0,-1580.0,-1861.0,-8017.0,-4118.0,-2260.0,-1118.0,-1688.0,-1880.0,-1919.0,-1687.0,-672.0,2619.0,2523.0,1550.0,1802.0,1759.0,1742.0,1354.0,1823.0,2485.0,2430.0,2318.0,1926.0,1268.0,1304.0,2538.0,-14174.0,-11279.0,1812.0,4793.0,2002.0,-367.0,306.0,5.0,14.0,22.0,-3.0,67.0,153.0,118.0,39.0,14.0,28.0,56.0,35.0,88.0,53.0,-17.0,-28.0,-24.0,88.0,-3.0,-42.0,-50.0,-143.0,-149.0,-114.0,-58.0,15.0,5.0,-59.0,-54.0,-118.0,-144.0,-37.0,1.0,10.0,32.0,0.0,-57.0,-83.0,142.0,304.0,251.0,234.0,287.0,299.0,240.0,207.0,175.0,103.0,90.0,73.0,134.0,157.0,145.0,121.0,78.0,50.0,41.0,75.0,102.0,79.0,10.0,-14.0,-18.0,-7.0,29.0,35.0,76.0,60.0,46.0,50.0,63.0,86.0,69.0,91.0,109.0,124.0],\"type\":\"scatter\"}],                        {\"template\":{\"data\":{\"histogram2dcontour\":[{\"type\":\"histogram2dcontour\",\"colorbar\":{\"outlinewidth\":0,\"ticks\":\"\"},\"colorscale\":[[0.0,\"#0d0887\"],[0.1111111111111111,\"#46039f\"],[0.2222222222222222,\"#7201a8\"],[0.3333333333333333,\"#9c179e\"],[0.4444444444444444,\"#bd3786\"],[0.5555555555555556,\"#d8576b\"],[0.6666666666666666,\"#ed7953\"],[0.7777777777777778,\"#fb9f3a\"],[0.8888888888888888,\"#fdca26\"],[1.0,\"#f0f921\"]]}],\"choropleth\":[{\"type\":\"choropleth\",\"colorbar\":{\"outlinewidth\":0,\"ticks\":\"\"}}],\"histogram2d\":[{\"type\":\"histogram2d\",\"colorbar\":{\"outlinewidth\":0,\"ticks\":\"\"},\"colorscale\":[[0.0,\"#0d0887\"],[0.1111111111111111,\"#46039f\"],[0.2222222222222222,\"#7201a8\"],[0.3333333333333333,\"#9c179e\"],[0.4444444444444444,\"#bd3786\"],[0.5555555555555556,\"#d8576b\"],[0.6666666666666666,\"#ed7953\"],[0.7777777777777778,\"#fb9f3a\"],[0.8888888888888888,\"#fdca26\"],[1.0,\"#f0f921\"]]}],\"heatmap\":[{\"type\":\"heatmap\",\"colorbar\":{\"outlinewidth\":0,\"ticks\":\"\"},\"colorscale\":[[0.0,\"#0d0887\"],[0.1111111111111111,\"#46039f\"],[0.2222222222222222,\"#7201a8\"],[0.3333333333333333,\"#9c179e\"],[0.4444444444444444,\"#bd3786\"],[0.5555555555555556,\"#d8576b\"],[0.6666666666666666,\"#ed7953\"],[0.7777777777777778,\"#fb9f3a\"],[0.8888888888888888,\"#fdca26\"],[1.0,\"#f0f921\"]]}],\"heatmapgl\":[{\"type\":\"heatmapgl\",\"colorbar\":{\"outlinewidth\":0,\"ticks\":\"\"},\"colorscale\":[[0.0,\"#0d0887\"],[0.1111111111111111,\"#46039f\"],[0.2222222222222222,\"#7201a8\"],[0.3333333333333333,\"#9c179e\"],[0.4444444444444444,\"#bd3786\"],[0.5555555555555556,\"#d8576b\"],[0.6666666666666666,\"#ed7953\"],[0.7777777777777778,\"#fb9f3a\"],[0.8888888888888888,\"#fdca26\"],[1.0,\"#f0f921\"]]}],\"contourcarpet\":[{\"type\":\"contourcarpet\",\"colorbar\":{\"outlinewidth\":0,\"ticks\":\"\"}}],\"contour\":[{\"type\":\"contour\",\"colorbar\":{\"outlinewidth\":0,\"ticks\":\"\"},\"colorscale\":[[0.0,\"#0d0887\"],[0.1111111111111111,\"#46039f\"],[0.2222222222222222,\"#7201a8\"],[0.3333333333333333,\"#9c179e\"],[0.4444444444444444,\"#bd3786\"],[0.5555555555555556,\"#d8576b\"],[0.6666666666666666,\"#ed7953\"],[0.7777777777777778,\"#fb9f3a\"],[0.8888888888888888,\"#fdca26\"],[1.0,\"#f0f921\"]]}],\"surface\":[{\"type\":\"surface\",\"colorbar\":{\"outlinewidth\":0,\"ticks\":\"\"},\"colorscale\":[[0.0,\"#0d0887\"],[0.1111111111111111,\"#46039f\"],[0.2222222222222222,\"#7201a8\"],[0.3333333333333333,\"#9c179e\"],[0.4444444444444444,\"#bd3786\"],[0.5555555555555556,\"#d8576b\"],[0.6666666666666666,\"#ed7953\"],[0.7777777777777778,\"#fb9f3a\"],[0.8888888888888888,\"#fdca26\"],[1.0,\"#f0f921\"]]}],\"mesh3d\":[{\"type\":\"mesh3d\",\"colorbar\":{\"outlinewidth\":0,\"ticks\":\"\"}}],\"scatter\":[{\"fillpattern\":{\"fillmode\":\"overlay\",\"size\":10,\"solidity\":0.2},\"type\":\"scatter\"}],\"parcoords\":[{\"type\":\"parcoords\",\"line\":{\"colorbar\":{\"outlinewidth\":0,\"ticks\":\"\"}}}],\"scatterpolargl\":[{\"type\":\"scatterpolargl\",\"marker\":{\"colorbar\":{\"outlinewidth\":0,\"ticks\":\"\"}}}],\"bar\":[{\"error_x\":{\"color\":\"#2a3f5f\"},\"error_y\":{\"color\":\"#2a3f5f\"},\"marker\":{\"line\":{\"color\":\"#E5ECF6\",\"width\":0.5},\"pattern\":{\"fillmode\":\"overlay\",\"size\":10,\"solidity\":0.2}},\"type\":\"bar\"}],\"scattergeo\":[{\"type\":\"scattergeo\",\"marker\":{\"colorbar\":{\"outlinewidth\":0,\"ticks\":\"\"}}}],\"scatterpolar\":[{\"type\":\"scatterpolar\",\"marker\":{\"colorbar\":{\"outlinewidth\":0,\"ticks\":\"\"}}}],\"histogram\":[{\"marker\":{\"pattern\":{\"fillmode\":\"overlay\",\"size\":10,\"solidity\":0.2}},\"type\":\"histogram\"}],\"scattergl\":[{\"type\":\"scattergl\",\"marker\":{\"colorbar\":{\"outlinewidth\":0,\"ticks\":\"\"}}}],\"scatter3d\":[{\"type\":\"scatter3d\",\"line\":{\"colorbar\":{\"outlinewidth\":0,\"ticks\":\"\"}},\"marker\":{\"colorbar\":{\"outlinewidth\":0,\"ticks\":\"\"}}}],\"scattermapbox\":[{\"type\":\"scattermapbox\",\"marker\":{\"colorbar\":{\"outlinewidth\":0,\"ticks\":\"\"}}}],\"scatterternary\":[{\"type\":\"scatterternary\",\"marker\":{\"colorbar\":{\"outlinewidth\":0,\"ticks\":\"\"}}}],\"scattercarpet\":[{\"type\":\"scattercarpet\",\"marker\":{\"colorbar\":{\"outlinewidth\":0,\"ticks\":\"\"}}}],\"carpet\":[{\"aaxis\":{\"endlinecolor\":\"#2a3f5f\",\"gridcolor\":\"white\",\"linecolor\":\"white\",\"minorgridcolor\":\"white\",\"startlinecolor\":\"#2a3f5f\"},\"baxis\":{\"endlinecolor\":\"#2a3f5f\",\"gridcolor\":\"white\",\"linecolor\":\"white\",\"minorgridcolor\":\"white\",\"startlinecolor\":\"#2a3f5f\"},\"type\":\"carpet\"}],\"table\":[{\"cells\":{\"fill\":{\"color\":\"#EBF0F8\"},\"line\":{\"color\":\"white\"}},\"header\":{\"fill\":{\"color\":\"#C8D4E3\"},\"line\":{\"color\":\"white\"}},\"type\":\"table\"}],\"barpolar\":[{\"marker\":{\"line\":{\"color\":\"#E5ECF6\",\"width\":0.5},\"pattern\":{\"fillmode\":\"overlay\",\"size\":10,\"solidity\":0.2}},\"type\":\"barpolar\"}],\"pie\":[{\"automargin\":true,\"type\":\"pie\"}]},\"layout\":{\"autotypenumbers\":\"strict\",\"colorway\":[\"#636efa\",\"#EF553B\",\"#00cc96\",\"#ab63fa\",\"#FFA15A\",\"#19d3f3\",\"#FF6692\",\"#B6E880\",\"#FF97FF\",\"#FECB52\"],\"font\":{\"color\":\"#2a3f5f\"},\"hovermode\":\"closest\",\"hoverlabel\":{\"align\":\"left\"},\"paper_bgcolor\":\"white\",\"plot_bgcolor\":\"#E5ECF6\",\"polar\":{\"bgcolor\":\"#E5ECF6\",\"angularaxis\":{\"gridcolor\":\"white\",\"linecolor\":\"white\",\"ticks\":\"\"},\"radialaxis\":{\"gridcolor\":\"white\",\"linecolor\":\"white\",\"ticks\":\"\"}},\"ternary\":{\"bgcolor\":\"#E5ECF6\",\"aaxis\":{\"gridcolor\":\"white\",\"linecolor\":\"white\",\"ticks\":\"\"},\"baxis\":{\"gridcolor\":\"white\",\"linecolor\":\"white\",\"ticks\":\"\"},\"caxis\":{\"gridcolor\":\"white\",\"linecolor\":\"white\",\"ticks\":\"\"}},\"coloraxis\":{\"colorbar\":{\"outlinewidth\":0,\"ticks\":\"\"}},\"colorscale\":{\"sequential\":[[0.0,\"#0d0887\"],[0.1111111111111111,\"#46039f\"],[0.2222222222222222,\"#7201a8\"],[0.3333333333333333,\"#9c179e\"],[0.4444444444444444,\"#bd3786\"],[0.5555555555555556,\"#d8576b\"],[0.6666666666666666,\"#ed7953\"],[0.7777777777777778,\"#fb9f3a\"],[0.8888888888888888,\"#fdca26\"],[1.0,\"#f0f921\"]],\"sequentialminus\":[[0.0,\"#0d0887\"],[0.1111111111111111,\"#46039f\"],[0.2222222222222222,\"#7201a8\"],[0.3333333333333333,\"#9c179e\"],[0.4444444444444444,\"#bd3786\"],[0.5555555555555556,\"#d8576b\"],[0.6666666666666666,\"#ed7953\"],[0.7777777777777778,\"#fb9f3a\"],[0.8888888888888888,\"#fdca26\"],[1.0,\"#f0f921\"]],\"diverging\":[[0,\"#8e0152\"],[0.1,\"#c51b7d\"],[0.2,\"#de77ae\"],[0.3,\"#f1b6da\"],[0.4,\"#fde0ef\"],[0.5,\"#f7f7f7\"],[0.6,\"#e6f5d0\"],[0.7,\"#b8e186\"],[0.8,\"#7fbc41\"],[0.9,\"#4d9221\"],[1,\"#276419\"]]},\"xaxis\":{\"gridcolor\":\"white\",\"linecolor\":\"white\",\"ticks\":\"\",\"title\":{\"standoff\":15},\"zerolinecolor\":\"white\",\"automargin\":true,\"zerolinewidth\":2},\"yaxis\":{\"gridcolor\":\"white\",\"linecolor\":\"white\",\"ticks\":\"\",\"title\":{\"standoff\":15},\"zerolinecolor\":\"white\",\"automargin\":true,\"zerolinewidth\":2},\"scene\":{\"xaxis\":{\"backgroundcolor\":\"#E5ECF6\",\"gridcolor\":\"white\",\"linecolor\":\"white\",\"showbackground\":true,\"ticks\":\"\",\"zerolinecolor\":\"white\",\"gridwidth\":2},\"yaxis\":{\"backgroundcolor\":\"#E5ECF6\",\"gridcolor\":\"white\",\"linecolor\":\"white\",\"showbackground\":true,\"ticks\":\"\",\"zerolinecolor\":\"white\",\"gridwidth\":2},\"zaxis\":{\"backgroundcolor\":\"#E5ECF6\",\"gridcolor\":\"white\",\"linecolor\":\"white\",\"showbackground\":true,\"ticks\":\"\",\"zerolinecolor\":\"white\",\"gridwidth\":2}},\"shapedefaults\":{\"line\":{\"color\":\"#2a3f5f\"}},\"annotationdefaults\":{\"arrowcolor\":\"#2a3f5f\",\"arrowhead\":0,\"arrowwidth\":1},\"geo\":{\"bgcolor\":\"white\",\"landcolor\":\"#E5ECF6\",\"subunitcolor\":\"white\",\"showland\":true,\"showlakes\":true,\"lakecolor\":\"white\"},\"title\":{\"x\":0.05},\"mapbox\":{\"style\":\"light\"}}},\"title\":{\"text\":\"Linear_Acceleration vs Time\"},\"xaxis\":{\"title\":{\"text\":\"Time\"}},\"yaxis\":{\"title\":{\"text\":\"Acceleration\"}}},                        {\"responsive\": true}                    ).then(function(){\n",
       "                            \n",
       "var gd = document.getElementById('86c3bd61-2d4a-411e-9c61-fe32c35e76eb');\n",
       "var x = new MutationObserver(function (mutations, observer) {{\n",
       "        var display = window.getComputedStyle(gd).display;\n",
       "        if (!display || display === 'none') {{\n",
       "            console.log([gd, 'removed!']);\n",
       "            Plotly.purge(gd);\n",
       "            observer.disconnect();\n",
       "        }}\n",
       "}});\n",
       "\n",
       "// Listen for the removal of the full notebook cells\n",
       "var notebookContainer = gd.closest('#notebook-container');\n",
       "if (notebookContainer) {{\n",
       "    x.observe(notebookContainer, {childList: true});\n",
       "}}\n",
       "\n",
       "// Listen for the clearing of the current output cell\n",
       "var outputEl = gd.closest('.output');\n",
       "if (outputEl) {{\n",
       "    x.observe(outputEl, {childList: true});\n",
       "}}\n",
       "\n",
       "                        })                };                });            </script>        </div>"
      ]
     },
     "metadata": {},
     "output_type": "display_data"
    }
   ],
   "source": [
    "import plotly.graph_objects as go\n",
    "import pandas as pd\n",
    "\n",
    "trace1 = go.Scatter(x=frames, y=df['Ax_R'], mode='lines', name='Linear_Acceleration_R')\n",
    "trace2 = go.Scatter(x=frames, y=df['Ax_L'], mode='lines', name='Linear_Acceleration_L')\n",
    "#Create the figure with traces\n",
    "fig = go.Figure([trace1, trace2])\n",
    "\n",
    "# Customize layout\n",
    "fig.update_layout(title='Linear_Acceleration vs Time',\n",
    "                  xaxis_title='Time',\n",
    "                  yaxis_title='Acceleration')\n",
    "\n",
    "# Display the plot\n",
    "fig.show()\n"
   ]
  },
  {
   "cell_type": "code",
   "execution_count": null,
   "id": "e3dd4d8e-cfbc-4fda-a475-5cbb6878d8d6",
   "metadata": {},
   "outputs": [],
   "source": []
  }
 ],
 "metadata": {
  "kernelspec": {
   "display_name": "Python 3 (ipykernel)",
   "language": "python",
   "name": "python3"
  },
  "language_info": {
   "codemirror_mode": {
    "name": "ipython",
    "version": 3
   },
   "file_extension": ".py",
   "mimetype": "text/x-python",
   "name": "python",
   "nbconvert_exporter": "python",
   "pygments_lexer": "ipython3",
   "version": "3.11.7"
  }
 },
 "nbformat": 4,
 "nbformat_minor": 5
}
